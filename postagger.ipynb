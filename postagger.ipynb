{
 "cells": [
  {
   "cell_type": "markdown",
   "metadata": {},
   "source": [
    "# POS-тэггинг с CRFSuite"
   ]
  },
  {
   "cell_type": "markdown",
   "metadata": {},
   "source": [
    "Елена Сокур (152), Анна Зуева (151).\n",
    "\n",
    "CRFSuite — одна из нескольких систем для последовательного теггинга, основанных на CRF. В питоне есть две обёртки: `pycrfsuite` и `sklearn_crfsuite`.\n",
    "\n",
    "Корпус: фрагмент НКРЯ в 1 млн словоупотреблений."
   ]
  },
  {
   "cell_type": "code",
   "execution_count": 1,
   "metadata": {},
   "outputs": [],
   "source": [
    "import pycrfsuite"
   ]
  },
  {
   "cell_type": "code",
   "execution_count": 2,
   "metadata": {},
   "outputs": [],
   "source": [
    "import codecs"
   ]
  },
  {
   "cell_type": "markdown",
   "metadata": {},
   "source": [
    "## 1 Загрузка корпуса"
   ]
  },
  {
   "cell_type": "code",
   "execution_count": 3,
   "metadata": {},
   "outputs": [],
   "source": [
    "def read_ruscorpora(filename):\n",
    "    sent = [[]]\n",
    "    with codecs.open(filename) as inp_file:\n",
    "        for line in inp_file:\n",
    "            line = line.strip('\\r\\n ')\n",
    "            if '\\t' in line:\n",
    "                line = line[:line.find('\\t')]\n",
    "            if line.startswith('#'):\n",
    "                continue\n",
    "            if not line:\n",
    "                sent.append([])\n",
    "                continue\n",
    "            wordform, lemma, gram = line.rsplit('/', 2)\n",
    "            pos = gram[:gram.find('=')] if '=' in gram else gram\n",
    "            pos = pos.split(',')[0]\n",
    "            sent[-1].append((wordform, pos, lemma, gram))\n",
    "    \n",
    "    return sent"
   ]
  },
  {
   "cell_type": "code",
   "execution_count": 4,
   "metadata": {},
   "outputs": [],
   "source": [
    "corpus = read_ruscorpora('ruscorpora.parsed.txt')"
   ]
  },
  {
   "cell_type": "code",
   "execution_count": 5,
   "metadata": {},
   "outputs": [
    {
     "name": "stdout",
     "output_type": "stream",
     "text": [
      "Якутское A якутский A=n,sg,nom,plen\n",
      "отделение S отделение S,n,inan=sg,nom\n",
      "Единой A единый A=f,sg,gen,plen\n",
      "России S Россия S,f,inan=sg,gen\n",
      "планирует V планировать V,ipf,tran=sg,act,praes,3p,indic\n",
      "создать V создать V,pf,tran=inf,act\n",
      "комитеты S комитет S,m,inan=pl,acc\n",
      "партийного A партийный A=m,sg,gen,plen\n",
      "контроля S контроль S,m,inan=sg,gen\n",
      "наподобие PR наподобие PR\n",
      "существовавших V существовать V,ipf,intr,act=partcp,pl,gen,praet,plen\n",
      "в PR в PR\n",
      "СССР S СССР S,m,inan,0=sg,loc\n",
      "на PR на PR\n",
      "базе S база S,f,inan=sg,loc\n",
      "КПСС S КПСС S,f,inan,0=sg,gen\n"
     ]
    }
   ],
   "source": [
    "for word in corpus[0]:\n",
    "    print(word[0], word[1], word[2], word[3])"
   ]
  },
  {
   "cell_type": "markdown",
   "metadata": {},
   "source": [
    "## 2 Преобразование текста в фичи\n",
    "\n",
    "Для каждого токена в качестве признаков мы будем использовать само слово и его контекст — несколько слов слева и справа. Количество контекста передается в аргументе `n_context`.\n",
    "\n",
    "Если достаточного количества слов слева нет, то добавляется специальный признак начала предложения: `BOS`. Если нет контекста справа, то признак конца предложения: `EOS`."
   ]
  },
  {
   "cell_type": "code",
   "execution_count": 6,
   "metadata": {},
   "outputs": [],
   "source": [
    "def word2features(sent, i, n_context):\n",
    "    word = sent[i][0]\n",
    "\n",
    "    features = [\n",
    "        'word=' + word\n",
    "    ]\n",
    "    \n",
    "    for i_context in range(i-n_context, i):\n",
    "        if i_context >= 0:\n",
    "            features.extend([\n",
    "                    '-{}:word='.format(i_context) + sent[i_context][0]\n",
    "                ])\n",
    "        else:\n",
    "            features.append('BOS')\n",
    "    for i_context in range(i+1, i+1+n_context):\n",
    "        if i_context < len(sent):\n",
    "            features.extend([\n",
    "                    '+{}:word='.format(i_context) + sent[i_context][0]\n",
    "                ])\n",
    "        else:\n",
    "            features.append('EOS')\n",
    "    \n",
    "    return features"
   ]
  },
  {
   "cell_type": "markdown",
   "metadata": {},
   "source": [
    "Вспомогательные функции для преобразования предложения в последовательность признаков и тегов."
   ]
  },
  {
   "cell_type": "code",
   "execution_count": 5,
   "metadata": {},
   "outputs": [],
   "source": [
    "def sent2features(sent, n_context):\n",
    "    return [word2features(sent, i, n_context) for i in range(len(sent))]\n",
    "\n",
    "def sent2labels(sent):\n",
    "    return [postag for token, postag, lemma, gram in sent]\n",
    "\n",
    "def sent2tokens(sent):\n",
    "    return [token for token, postag, lemma, gram in sent]"
   ]
  },
  {
   "cell_type": "markdown",
   "metadata": {},
   "source": [
    "Разобьем корпус на тестовую и тренировочную выборку случайным образом."
   ]
  },
  {
   "cell_type": "code",
   "execution_count": 7,
   "metadata": {},
   "outputs": [
    {
     "name": "stdout",
     "output_type": "stream",
     "text": [
      "CPU times: user 9.25 s, sys: 1.06 s, total: 10.3 s\n",
      "Wall time: 10.4 s\n"
     ]
    }
   ],
   "source": [
    "%%time\n",
    "from sklearn.model_selection import train_test_split\n",
    "\n",
    "n_context = 2\n",
    "\n",
    "X_2 = [sent2features(s, n_context) for s in corpus]\n",
    "y_2 = [sent2labels(s) for s in corpus]\n",
    "X_train_2, X_test_2, y_train_2, y_test_2 = train_test_split(X_2, y_2, test_size=0.3, random_state=42)"
   ]
  },
  {
   "cell_type": "code",
   "execution_count": 7,
   "metadata": {},
   "outputs": [
    {
     "name": "stdout",
     "output_type": "stream",
     "text": [
      "CPU times: user 8.14 s, sys: 427 ms, total: 8.57 s\n",
      "Wall time: 8.74 s\n"
     ]
    }
   ],
   "source": [
    "%%time\n",
    "from sklearn.model_selection import train_test_split\n",
    "\n",
    "n_context = 3\n",
    "\n",
    "X_3 = [sent2features(s, n_context) for s in corpus]\n",
    "y_3 = [sent2labels(s) for s in corpus]\n",
    "X_train_3, X_test_3, y_train_3, y_test_3 = train_test_split(X_3, y_3, test_size=0.3, random_state=42)"
   ]
  },
  {
   "cell_type": "code",
   "execution_count": 8,
   "metadata": {},
   "outputs": [
    {
     "name": "stdout",
     "output_type": "stream",
     "text": [
      "CPU times: user 7.84 s, sys: 311 ms, total: 8.15 s\n",
      "Wall time: 8.54 s\n"
     ]
    }
   ],
   "source": [
    "%%time\n",
    "from sklearn.model_selection import train_test_split\n",
    "\n",
    "n_context = 4\n",
    "\n",
    "X_4 = [sent2features(s, n_context) for s in corpus]\n",
    "y_4 = [sent2labels(s) for s in corpus]\n",
    "X_train_4, X_test_4, y_train_4, y_test_4 = train_test_split(X_4, y_4, test_size=0.3, random_state=42)"
   ]
  },
  {
   "cell_type": "markdown",
   "metadata": {},
   "source": [
    "## 3 Обучение\n",
    "## 3.1 Baseline"
   ]
  },
  {
   "cell_type": "code",
   "execution_count": 9,
   "metadata": {},
   "outputs": [],
   "source": [
    "from sklearn.metrics import classification_report\n",
    "from sklearn.preprocessing import MultiLabelBinarizer"
   ]
  },
  {
   "cell_type": "code",
   "execution_count": 19,
   "metadata": {
    "collapsed": true
   },
   "outputs": [],
   "source": [
    "# вспомогательная функция для тренировок\n",
    "def get_class_report(params, X_train, y_train, X_test, y_test):\n",
    "    \n",
    "    trainer = pycrfsuite.Trainer(verbose=False)\n",
    "\n",
    "    for xseq, yseq in zip(X_train, y_train):\n",
    "        trainer.append(xseq, yseq)\n",
    "        \n",
    "    trainer.set_params(params)\n",
    "    \n",
    "    print('Training...')\n",
    "    trainer.train('ruscorpora.crfsuite')\n",
    "    !ls -lh ./ruscorpora.crfsuite\n",
    "    print('Saved.')\n",
    "    \n",
    "    tagger = pycrfsuite.Tagger()\n",
    "    tagger.open('ruscorpora.crfsuite')\n",
    "\n",
    "    y_pred = [tagger.tag(xseq) for xseq in X_test]\n",
    "    binizer = MultiLabelBinarizer(classes=['A', 'A-PRO', 'ADV', 'ADV-PRO', 'ANUM', 'CONJ', \n",
    "                                           'INIT', 'INTJ', 'NONLEX', 'NUM', 'PARENTH', 'PART', \n",
    "                                           'PR', 'PRAEDIC', 'PRAEDIC-PRO', 'S', 'S-PRO', 'V'])\n",
    "    y_pred_bin = binizer.fit_transform(y_pred)\n",
    "    y_test_bin = binizer.transform(y_test)\n",
    "    print('Classification report:')\n",
    "    print(classification_report(y_test_bin, y_pred_bin))\n",
    "    print('Accuracy score: {}'.format(metrics.accuracy_score(y_test_bin, y_pred_bin)))"
   ]
  },
  {
   "cell_type": "code",
   "execution_count": 10,
   "metadata": {
    "collapsed": true
   },
   "outputs": [],
   "source": [
    "# baseline params\n",
    "params = {\n",
    "    'c1': 1.0,   # coefficient for L1 penalty\n",
    "    'c2': 1e-3,  # coefficient for L2 penalty\n",
    "    'max_iterations': 50,  # stop earlier\n",
    "\n",
    "    # include transitions that are possible, but not observed\n",
    "    'feature.possible_transitions': True\n",
    "}"
   ]
  },
  {
   "cell_type": "code",
   "execution_count": 18,
   "metadata": {},
   "outputs": [
    {
     "name": "stdout",
     "output_type": "stream",
     "text": [
      "Classification report:\n",
      "             precision    recall  f1-score   support\n",
      "\n",
      "          0       0.86      0.91      0.88     12313\n",
      "          1       0.96      0.96      0.96      8972\n",
      "          2       0.94      0.90      0.92      8040\n",
      "          3       0.95      0.91      0.93      5237\n",
      "          4       0.92      0.73      0.82      1200\n",
      "          5       0.97      0.98      0.97     12564\n",
      "          6       0.93      0.89      0.91       721\n",
      "          7       0.91      0.67      0.77       246\n",
      "          8       0.96      0.65      0.78       855\n",
      "          9       0.97      0.95      0.96      5297\n",
      "         10       0.87      0.85      0.86      1418\n",
      "         11       0.96      0.94      0.95      8709\n",
      "         12       0.99      1.00      1.00     14520\n",
      "         13       0.85      0.79      0.82      2101\n",
      "         14       0.88      1.00      0.94        15\n",
      "         15       0.96      0.99      0.98     21231\n",
      "         16       0.96      0.97      0.97     12337\n",
      "         17       0.97      0.94      0.96     19198\n",
      "\n",
      "avg / total       0.95      0.95      0.95    134974\n",
      "\n",
      "Accuracy score: 0.6837308441439124\n"
     ]
    }
   ],
   "source": [
    "# первая тренировка: baseline params, n_context = 2\n",
    "get_class_report(params, X_train_2, y_train_2, X_test_2, y_test_2)"
   ]
  },
  {
   "cell_type": "markdown",
   "metadata": {},
   "source": [
    "Мы можем заметить, что самое плохое качество достигается на наименее важных категориях: `NONLEX`, `INTJ` и `PARENTH`. То есть на важных грамматических категориях качество на самом деле выше."
   ]
  },
  {
   "cell_type": "code",
   "execution_count": 44,
   "metadata": {},
   "outputs": [
    {
     "name": "stdout",
     "output_type": "stream",
     "text": [
      "0 A\n",
      "1 A-PRO\n",
      "2 ADV\n",
      "3 ADV-PRO\n",
      "4 ANUM\n",
      "5 CONJ\n",
      "6 INIT\n",
      "7 INTJ\n",
      "8 NONLEX\n",
      "9 NUM\n",
      "10 PARENTH\n",
      "11 PART\n",
      "12 PR\n",
      "13 PRAEDIC\n",
      "14 PRAEDIC-PRO\n",
      "15 S\n",
      "16 S-PRO\n",
      "17 V\n"
     ]
    }
   ],
   "source": [
    "for indx, part in enumerate(binizer.classes_):\n",
    "    print(indx, part)"
   ]
  },
  {
   "cell_type": "markdown",
   "metadata": {},
   "source": [
    "## 3.2 Расширение контекста"
   ]
  },
  {
   "cell_type": "code",
   "execution_count": 20,
   "metadata": {},
   "outputs": [
    {
     "name": "stdout",
     "output_type": "stream",
     "text": [
      "Training...\n",
      "-rw-rw-r-- 1 socur socur 6,7M июн 17 22:59 ./ruscorpora.crfsuite\n",
      "Saved.\n",
      "Classification report:\n",
      "             precision    recall  f1-score   support\n",
      "\n",
      "          0       0.87      0.90      0.88     12313\n",
      "          1       0.96      0.96      0.96      8972\n",
      "          2       0.94      0.90      0.92      8040\n",
      "          3       0.95      0.91      0.93      5237\n",
      "          4       0.93      0.72      0.81      1200\n",
      "          5       0.97      0.98      0.97     12564\n",
      "          6       0.92      0.90      0.91       721\n",
      "          7       0.90      0.66      0.76       246\n",
      "          8       0.95      0.65      0.77       855\n",
      "          9       0.97      0.95      0.96      5297\n",
      "         10       0.87      0.84      0.86      1418\n",
      "         11       0.96      0.94      0.95      8709\n",
      "         12       0.99      1.00      1.00     14520\n",
      "         13       0.86      0.79      0.82      2101\n",
      "         14       0.94      1.00      0.97        15\n",
      "         15       0.97      0.99      0.98     21231\n",
      "         16       0.96      0.97      0.97     12337\n",
      "         17       0.97      0.94      0.96     19198\n",
      "\n",
      "avg / total       0.95      0.95      0.95    134974\n",
      "\n",
      "Accuracy score: 0.6813788541398699\n"
     ]
    }
   ],
   "source": [
    "# попробуем увеличить контекст до 3\n",
    "get_class_report(params, X_train_3, y_train_3, X_test_3, y_test_3)"
   ]
  },
  {
   "cell_type": "code",
   "execution_count": 21,
   "metadata": {},
   "outputs": [
    {
     "name": "stdout",
     "output_type": "stream",
     "text": [
      "Training...\n",
      "-rw-rw-r-- 1 socur socur 11M июн 17 23:01 ./ruscorpora.crfsuite\n",
      "Saved.\n",
      "Classification report:\n",
      "             precision    recall  f1-score   support\n",
      "\n",
      "          0       0.87      0.89      0.88     12313\n",
      "          1       0.96      0.96      0.96      8972\n",
      "          2       0.94      0.90      0.92      8040\n",
      "          3       0.95      0.91      0.93      5237\n",
      "          4       0.93      0.72      0.81      1200\n",
      "          5       0.97      0.98      0.97     12564\n",
      "          6       0.93      0.87      0.90       721\n",
      "          7       0.91      0.67      0.77       246\n",
      "          8       0.97      0.62      0.76       855\n",
      "          9       0.97      0.95      0.96      5297\n",
      "         10       0.87      0.83      0.85      1418\n",
      "         11       0.96      0.94      0.95      8709\n",
      "         12       1.00      1.00      1.00     14520\n",
      "         13       0.85      0.79      0.82      2101\n",
      "         14       0.88      1.00      0.94        15\n",
      "         15       0.96      0.99      0.98     21231\n",
      "         16       0.96      0.97      0.97     12337\n",
      "         17       0.97      0.94      0.96     19198\n",
      "\n",
      "avg / total       0.95      0.95      0.95    134974\n",
      "\n",
      "Accuracy score: 0.6773731211642351\n"
     ]
    }
   ],
   "source": [
    "# попробуем увеличить контекст до 4\n",
    "get_class_report(params, X_train_4, y_train_4, X_test_4, y_test_4)"
   ]
  },
  {
   "cell_type": "markdown",
   "metadata": {},
   "source": [
    "Как видно, расширение контекста приводит к падению accuracy. "
   ]
  },
  {
   "cell_type": "markdown",
   "metadata": {},
   "source": [
    "## 3.3 Подбор гиперпараметров для crfsuite"
   ]
  },
  {
   "cell_type": "code",
   "execution_count": 22,
   "metadata": {
    "collapsed": true
   },
   "outputs": [],
   "source": [
    "# попробуем немного изменить параметры c2 и max_iterations\n",
    "params_c2 = {\n",
    "    'c1': 1.0,   \n",
    "    'c2': 1.0, \n",
    "    'max_iterations': 100,  \n",
    "    'feature.possible_transitions': True\n",
    "}"
   ]
  },
  {
   "cell_type": "code",
   "execution_count": 27,
   "metadata": {},
   "outputs": [
    {
     "name": "stdout",
     "output_type": "stream",
     "text": [
      "Training...\n",
      "-rw-rw-r-- 1 socur socur 6,4M июн 17 23:11 ./ruscorpora.crfsuite\n",
      "Saved.\n",
      "Classification report:\n",
      "             precision    recall  f1-score   support\n",
      "\n",
      "          0       0.82      0.88      0.85     12313\n",
      "          1       0.95      0.94      0.95      8972\n",
      "          2       0.94      0.83      0.88      8040\n",
      "          3       0.96      0.89      0.92      5237\n",
      "          4       0.96      0.56      0.71      1200\n",
      "          5       0.96      0.98      0.97     12564\n",
      "          6       0.94      0.84      0.89       721\n",
      "          7       0.93      0.39      0.55       246\n",
      "          8       0.84      0.49      0.62       855\n",
      "          9       0.97      0.90      0.93      5297\n",
      "         10       0.89      0.77      0.82      1418\n",
      "         11       0.97      0.93      0.95      8709\n",
      "         12       0.99      1.00      0.99     14520\n",
      "         13       0.88      0.73      0.80      2101\n",
      "         14       1.00      0.60      0.75        15\n",
      "         15       0.95      0.99      0.97     21231\n",
      "         16       0.96      0.97      0.96     12337\n",
      "         17       0.97      0.92      0.94     19198\n",
      "\n",
      "avg / total       0.95      0.93      0.94    134974\n",
      "\n",
      "Accuracy score: 0.6097901583918268\n"
     ]
    }
   ],
   "source": [
    "# с2=1.0, max_iterations=100, n_context = 2\n",
    "get_class_report(params_c2, X_train_2, y_train_2, X_test_2, y_test_2)"
   ]
  },
  {
   "cell_type": "code",
   "execution_count": 29,
   "metadata": {},
   "outputs": [],
   "source": [
    "# уменьшим c1 и c2\n",
    "params_c = {    \n",
    "    'c1': 0.1,\n",
    "    'c2': 0.1,\n",
    "    'max_iterations': 100,\n",
    "    'feature.possible_transitions': True\n",
    "}"
   ]
  },
  {
   "cell_type": "code",
   "execution_count": 30,
   "metadata": {},
   "outputs": [
    {
     "name": "stdout",
     "output_type": "stream",
     "text": [
      "Training...\n",
      "-rw-rw-r-- 1 socur socur 36M июн 17 23:15 ./ruscorpora.crfsuite\n",
      "Saved.\n",
      "Classification report:\n",
      "             precision    recall  f1-score   support\n",
      "\n",
      "          0       0.88      0.91      0.90     12313\n",
      "          1       0.96      0.96      0.96      8972\n",
      "          2       0.94      0.89      0.92      8040\n",
      "          3       0.96      0.91      0.93      5237\n",
      "          4       0.94      0.69      0.79      1200\n",
      "          5       0.97      0.98      0.97     12564\n",
      "          6       0.93      0.88      0.91       721\n",
      "          7       0.95      0.63      0.76       246\n",
      "          8       0.98      0.61      0.75       855\n",
      "          9       0.97      0.95      0.96      5297\n",
      "         10       0.89      0.82      0.85      1418\n",
      "         11       0.96      0.94      0.95      8709\n",
      "         12       1.00      1.00      1.00     14520\n",
      "         13       0.87      0.78      0.82      2101\n",
      "         14       0.93      0.93      0.93        15\n",
      "         15       0.97      0.99      0.98     21231\n",
      "         16       0.96      0.97      0.97     12337\n",
      "         17       0.98      0.96      0.97     19198\n",
      "\n",
      "avg / total       0.96      0.95      0.95    134974\n",
      "\n",
      "Accuracy score: 0.7034287604277681\n"
     ]
    }
   ],
   "source": [
    "# c1=0.1, с2=0.1, max_iterations=100, n_context = 2\n",
    "get_class_report(params_c, X_train_2, y_train_2, X_test_2, y_test_2)"
   ]
  },
  {
   "cell_type": "markdown",
   "metadata": {},
   "source": [
    "Первое улучшение получено: accuracy увеличилось на 2%, precision на 1%."
   ]
  },
  {
   "cell_type": "markdown",
   "metadata": {
    "collapsed": true
   },
   "source": [
    "## 3.4 Обёртка sklearn_crfsuite.CRF"
   ]
  },
  {
   "cell_type": "markdown",
   "metadata": {},
   "source": [
    "Тут мы пытались использовать другую обёртку для того, чтобы можно было прогнаться по GridSearchCV, но не получилось :( "
   ]
  },
  {
   "cell_type": "code",
   "execution_count": 31,
   "metadata": {
    "collapsed": true
   },
   "outputs": [],
   "source": [
    "import sklearn_crfsuite"
   ]
  },
  {
   "cell_type": "code",
   "execution_count": 33,
   "metadata": {},
   "outputs": [
    {
     "name": "stdout",
     "output_type": "stream",
     "text": [
      "CPU times: user 3min 12s, sys: 388 ms, total: 3min 12s\n",
      "Wall time: 3min 12s\n"
     ]
    }
   ],
   "source": [
    "%%time\n",
    "\n",
    "# c1=0.1, с2=0.1, max_iterations=100, n_context = 2\n",
    "\n",
    "crf = sklearn_crfsuite.CRF(\n",
    "    algorithm='lbfgs',\n",
    "    c1=0.1,\n",
    "    c2=0.1,\n",
    "    max_iterations=100,\n",
    "    all_possible_transitions=True\n",
    ")\n",
    "crf.fit(X_train_2, y_train_2)"
   ]
  },
  {
   "cell_type": "code",
   "execution_count": 35,
   "metadata": {},
   "outputs": [
    {
     "name": "stdout",
     "output_type": "stream",
     "text": [
      "             precision    recall  f1-score   support\n",
      "\n",
      "          0       0.88      0.91      0.90     12313\n",
      "          1       0.96      0.96      0.96      8972\n",
      "          2       0.94      0.89      0.92      8040\n",
      "          3       0.96      0.91      0.93      5237\n",
      "          4       0.94      0.69      0.79      1200\n",
      "          5       0.97      0.98      0.97     12564\n",
      "          6       0.93      0.88      0.91       721\n",
      "          7       0.95      0.63      0.76       246\n",
      "          8       0.98      0.61      0.75       855\n",
      "          9       0.97      0.95      0.96      5297\n",
      "         10       0.89      0.82      0.85      1418\n",
      "         11       0.96      0.94      0.95      8709\n",
      "         12       1.00      1.00      1.00     14520\n",
      "         13       0.87      0.78      0.82      2101\n",
      "         14       0.93      0.93      0.93        15\n",
      "         15       0.97      0.99      0.98     21231\n",
      "         16       0.96      0.97      0.97     12337\n",
      "         17       0.98      0.96      0.97     19198\n",
      "\n",
      "avg / total       0.96      0.95      0.95    134974\n",
      "\n",
      "Accuracy score: 0.7034287604277681\n"
     ]
    }
   ],
   "source": [
    "y_pred = crf.predict(X_test_2)\n",
    "\n",
    "binizer = MultiLabelBinarizer(classes=['A', 'A-PRO', 'ADV', 'ADV-PRO', 'ANUM', 'CONJ', \n",
    "                                           'INIT', 'INTJ', 'NONLEX', 'NUM', 'PARENTH', 'PART', \n",
    "                                           'PR', 'PRAEDIC', 'PRAEDIC-PRO', 'S', 'S-PRO', 'V'])\n",
    "y_pred_bin = binizer.fit_transform(y_pred)\n",
    "y_test_bin = binizer.transform(y_test_2)\n",
    "print(classification_report(y_test_bin, y_pred_bin))\n",
    "print('Accuracy score: {}'.format(metrics.accuracy_score(y_test_bin, y_pred_bin)))"
   ]
  },
  {
   "cell_type": "code",
   "execution_count": 14,
   "metadata": {
    "collapsed": true
   },
   "outputs": [],
   "source": [
    "import numpy as np"
   ]
  },
  {
   "cell_type": "code",
   "execution_count": 15,
   "metadata": {
    "collapsed": true
   },
   "outputs": [],
   "source": [
    "import scipy\n",
    "from sklearn.model_selection import GridSearchCV\n",
    "from sklearn import metrics"
   ]
  },
  {
   "cell_type": "code",
   "execution_count": 37,
   "metadata": {
    "collapsed": true
   },
   "outputs": [
    {
     "name": "stdout",
     "output_type": "stream",
     "text": [
      "Fitting 3 folds for each of 9 candidates, totalling 27 fits\n"
     ]
    },
    {
     "name": "stderr",
     "output_type": "stream",
     "text": [
      "Exception in thread Thread-4:\n",
      "Traceback (most recent call last):\n",
      "  File \"/home/socur/anaconda3/lib/python3.6/threading.py\", line 916, in _bootstrap_inner\n",
      "    self.run()\n",
      "  File \"/home/socur/anaconda3/lib/python3.6/threading.py\", line 864, in run\n",
      "    self._target(*self._args, **self._kwargs)\n",
      "  File \"/home/socur/anaconda3/lib/python3.6/multiprocessing/pool.py\", line 405, in _handle_workers\n",
      "    pool._maintain_pool()\n",
      "  File \"/home/socur/anaconda3/lib/python3.6/multiprocessing/pool.py\", line 246, in _maintain_pool\n",
      "    self._repopulate_pool()\n",
      "  File \"/home/socur/anaconda3/lib/python3.6/multiprocessing/pool.py\", line 239, in _repopulate_pool\n",
      "    w.start()\n",
      "  File \"/home/socur/anaconda3/lib/python3.6/multiprocessing/process.py\", line 105, in start\n",
      "    self._popen = self._Popen(self)\n",
      "  File \"/home/socur/anaconda3/lib/python3.6/multiprocessing/context.py\", line 277, in _Popen\n",
      "    return Popen(process_obj)\n",
      "  File \"/home/socur/anaconda3/lib/python3.6/multiprocessing/popen_fork.py\", line 20, in __init__\n",
      "    self._launch(process_obj)\n",
      "  File \"/home/socur/anaconda3/lib/python3.6/multiprocessing/popen_fork.py\", line 67, in _launch\n",
      "    self.pid = os.fork()\n",
      "OSError: [Errno 12] Cannot allocate memory\n",
      "\n"
     ]
    },
    {
     "ename": "AttributeError",
     "evalue": "'NoneType' object has no attribute 'terminate'",
     "output_type": "error",
     "traceback": [
      "\u001b[0;31m---------------------------------------------------------------------------\u001b[0m",
      "\u001b[0;31mKeyboardInterrupt\u001b[0m                         Traceback (most recent call last)",
      "\u001b[0;32m~/anaconda3/lib/python3.6/site-packages/sklearn/externals/joblib/parallel.py\u001b[0m in \u001b[0;36mretrieve\u001b[0;34m(self)\u001b[0m\n\u001b[1;32m    698\u001b[0m                 \u001b[0;32mif\u001b[0m \u001b[0mgetattr\u001b[0m\u001b[0;34m(\u001b[0m\u001b[0mself\u001b[0m\u001b[0;34m.\u001b[0m\u001b[0m_backend\u001b[0m\u001b[0;34m,\u001b[0m \u001b[0;34m'supports_timeout'\u001b[0m\u001b[0;34m,\u001b[0m \u001b[0;32mFalse\u001b[0m\u001b[0;34m)\u001b[0m\u001b[0;34m:\u001b[0m\u001b[0;34m\u001b[0m\u001b[0m\n\u001b[0;32m--> 699\u001b[0;31m                     \u001b[0mself\u001b[0m\u001b[0;34m.\u001b[0m\u001b[0m_output\u001b[0m\u001b[0;34m.\u001b[0m\u001b[0mextend\u001b[0m\u001b[0;34m(\u001b[0m\u001b[0mjob\u001b[0m\u001b[0;34m.\u001b[0m\u001b[0mget\u001b[0m\u001b[0;34m(\u001b[0m\u001b[0mtimeout\u001b[0m\u001b[0;34m=\u001b[0m\u001b[0mself\u001b[0m\u001b[0;34m.\u001b[0m\u001b[0mtimeout\u001b[0m\u001b[0;34m)\u001b[0m\u001b[0;34m)\u001b[0m\u001b[0;34m\u001b[0m\u001b[0m\n\u001b[0m\u001b[1;32m    700\u001b[0m                 \u001b[0;32melse\u001b[0m\u001b[0;34m:\u001b[0m\u001b[0;34m\u001b[0m\u001b[0m\n",
      "\u001b[0;32m~/anaconda3/lib/python3.6/multiprocessing/pool.py\u001b[0m in \u001b[0;36mget\u001b[0;34m(self, timeout)\u001b[0m\n\u001b[1;32m    637\u001b[0m     \u001b[0;32mdef\u001b[0m \u001b[0mget\u001b[0m\u001b[0;34m(\u001b[0m\u001b[0mself\u001b[0m\u001b[0;34m,\u001b[0m \u001b[0mtimeout\u001b[0m\u001b[0;34m=\u001b[0m\u001b[0;32mNone\u001b[0m\u001b[0;34m)\u001b[0m\u001b[0;34m:\u001b[0m\u001b[0;34m\u001b[0m\u001b[0m\n\u001b[0;32m--> 638\u001b[0;31m         \u001b[0mself\u001b[0m\u001b[0;34m.\u001b[0m\u001b[0mwait\u001b[0m\u001b[0;34m(\u001b[0m\u001b[0mtimeout\u001b[0m\u001b[0;34m)\u001b[0m\u001b[0;34m\u001b[0m\u001b[0m\n\u001b[0m\u001b[1;32m    639\u001b[0m         \u001b[0;32mif\u001b[0m \u001b[0;32mnot\u001b[0m \u001b[0mself\u001b[0m\u001b[0;34m.\u001b[0m\u001b[0mready\u001b[0m\u001b[0;34m(\u001b[0m\u001b[0;34m)\u001b[0m\u001b[0;34m:\u001b[0m\u001b[0;34m\u001b[0m\u001b[0m\n",
      "\u001b[0;32m~/anaconda3/lib/python3.6/multiprocessing/pool.py\u001b[0m in \u001b[0;36mwait\u001b[0;34m(self, timeout)\u001b[0m\n\u001b[1;32m    634\u001b[0m     \u001b[0;32mdef\u001b[0m \u001b[0mwait\u001b[0m\u001b[0;34m(\u001b[0m\u001b[0mself\u001b[0m\u001b[0;34m,\u001b[0m \u001b[0mtimeout\u001b[0m\u001b[0;34m=\u001b[0m\u001b[0;32mNone\u001b[0m\u001b[0;34m)\u001b[0m\u001b[0;34m:\u001b[0m\u001b[0;34m\u001b[0m\u001b[0m\n\u001b[0;32m--> 635\u001b[0;31m         \u001b[0mself\u001b[0m\u001b[0;34m.\u001b[0m\u001b[0m_event\u001b[0m\u001b[0;34m.\u001b[0m\u001b[0mwait\u001b[0m\u001b[0;34m(\u001b[0m\u001b[0mtimeout\u001b[0m\u001b[0;34m)\u001b[0m\u001b[0;34m\u001b[0m\u001b[0m\n\u001b[0m\u001b[1;32m    636\u001b[0m \u001b[0;34m\u001b[0m\u001b[0m\n",
      "\u001b[0;32m~/anaconda3/lib/python3.6/threading.py\u001b[0m in \u001b[0;36mwait\u001b[0;34m(self, timeout)\u001b[0m\n\u001b[1;32m    550\u001b[0m             \u001b[0;32mif\u001b[0m \u001b[0;32mnot\u001b[0m \u001b[0msignaled\u001b[0m\u001b[0;34m:\u001b[0m\u001b[0;34m\u001b[0m\u001b[0m\n\u001b[0;32m--> 551\u001b[0;31m                 \u001b[0msignaled\u001b[0m \u001b[0;34m=\u001b[0m \u001b[0mself\u001b[0m\u001b[0;34m.\u001b[0m\u001b[0m_cond\u001b[0m\u001b[0;34m.\u001b[0m\u001b[0mwait\u001b[0m\u001b[0;34m(\u001b[0m\u001b[0mtimeout\u001b[0m\u001b[0;34m)\u001b[0m\u001b[0;34m\u001b[0m\u001b[0m\n\u001b[0m\u001b[1;32m    552\u001b[0m             \u001b[0;32mreturn\u001b[0m \u001b[0msignaled\u001b[0m\u001b[0;34m\u001b[0m\u001b[0m\n",
      "\u001b[0;32m~/anaconda3/lib/python3.6/threading.py\u001b[0m in \u001b[0;36mwait\u001b[0;34m(self, timeout)\u001b[0m\n\u001b[1;32m    294\u001b[0m             \u001b[0;32mif\u001b[0m \u001b[0mtimeout\u001b[0m \u001b[0;32mis\u001b[0m \u001b[0;32mNone\u001b[0m\u001b[0;34m:\u001b[0m\u001b[0;34m\u001b[0m\u001b[0m\n\u001b[0;32m--> 295\u001b[0;31m                 \u001b[0mwaiter\u001b[0m\u001b[0;34m.\u001b[0m\u001b[0macquire\u001b[0m\u001b[0;34m(\u001b[0m\u001b[0;34m)\u001b[0m\u001b[0;34m\u001b[0m\u001b[0m\n\u001b[0m\u001b[1;32m    296\u001b[0m                 \u001b[0mgotit\u001b[0m \u001b[0;34m=\u001b[0m \u001b[0;32mTrue\u001b[0m\u001b[0;34m\u001b[0m\u001b[0m\n",
      "\u001b[0;31mKeyboardInterrupt\u001b[0m: ",
      "\nDuring handling of the above exception, another exception occurred:\n",
      "\u001b[0;31mAttributeError\u001b[0m                            Traceback (most recent call last)",
      "\u001b[0;32m<timed exec>\u001b[0m in \u001b[0;36m<module>\u001b[0;34m()\u001b[0m\n",
      "\u001b[0;32m~/anaconda3/lib/python3.6/site-packages/sklearn/model_selection/_search.py\u001b[0m in \u001b[0;36mfit\u001b[0;34m(self, X, y, groups, **fit_params)\u001b[0m\n\u001b[1;32m    637\u001b[0m                                   error_score=self.error_score)\n\u001b[1;32m    638\u001b[0m           for parameters, (train, test) in product(candidate_params,\n\u001b[0;32m--> 639\u001b[0;31m                                                    cv.split(X, y, groups)))\n\u001b[0m\u001b[1;32m    640\u001b[0m \u001b[0;34m\u001b[0m\u001b[0m\n\u001b[1;32m    641\u001b[0m         \u001b[0;31m# if one choose to see train score, \"out\" will contain train score info\u001b[0m\u001b[0;34m\u001b[0m\u001b[0;34m\u001b[0m\u001b[0m\n",
      "\u001b[0;32m~/anaconda3/lib/python3.6/site-packages/sklearn/externals/joblib/parallel.py\u001b[0m in \u001b[0;36m__call__\u001b[0;34m(self, iterable)\u001b[0m\n\u001b[1;32m    787\u001b[0m                 \u001b[0;31m# consumption.\u001b[0m\u001b[0;34m\u001b[0m\u001b[0;34m\u001b[0m\u001b[0m\n\u001b[1;32m    788\u001b[0m                 \u001b[0mself\u001b[0m\u001b[0;34m.\u001b[0m\u001b[0m_iterating\u001b[0m \u001b[0;34m=\u001b[0m \u001b[0;32mFalse\u001b[0m\u001b[0;34m\u001b[0m\u001b[0m\n\u001b[0;32m--> 789\u001b[0;31m             \u001b[0mself\u001b[0m\u001b[0;34m.\u001b[0m\u001b[0mretrieve\u001b[0m\u001b[0;34m(\u001b[0m\u001b[0;34m)\u001b[0m\u001b[0;34m\u001b[0m\u001b[0m\n\u001b[0m\u001b[1;32m    790\u001b[0m             \u001b[0;31m# Make sure that we get a last message telling us we are done\u001b[0m\u001b[0;34m\u001b[0m\u001b[0;34m\u001b[0m\u001b[0m\n\u001b[1;32m    791\u001b[0m             \u001b[0melapsed_time\u001b[0m \u001b[0;34m=\u001b[0m \u001b[0mtime\u001b[0m\u001b[0;34m.\u001b[0m\u001b[0mtime\u001b[0m\u001b[0;34m(\u001b[0m\u001b[0;34m)\u001b[0m \u001b[0;34m-\u001b[0m \u001b[0mself\u001b[0m\u001b[0;34m.\u001b[0m\u001b[0m_start_time\u001b[0m\u001b[0;34m\u001b[0m\u001b[0m\n",
      "\u001b[0;32m~/anaconda3/lib/python3.6/site-packages/sklearn/externals/joblib/parallel.py\u001b[0m in \u001b[0;36mretrieve\u001b[0;34m(self)\u001b[0m\n\u001b[1;32m    719\u001b[0m                     \u001b[0;31m# scheduling.\u001b[0m\u001b[0;34m\u001b[0m\u001b[0;34m\u001b[0m\u001b[0m\n\u001b[1;32m    720\u001b[0m                     \u001b[0mensure_ready\u001b[0m \u001b[0;34m=\u001b[0m \u001b[0mself\u001b[0m\u001b[0;34m.\u001b[0m\u001b[0m_managed_backend\u001b[0m\u001b[0;34m\u001b[0m\u001b[0m\n\u001b[0;32m--> 721\u001b[0;31m                     \u001b[0mbackend\u001b[0m\u001b[0;34m.\u001b[0m\u001b[0mabort_everything\u001b[0m\u001b[0;34m(\u001b[0m\u001b[0mensure_ready\u001b[0m\u001b[0;34m=\u001b[0m\u001b[0mensure_ready\u001b[0m\u001b[0;34m)\u001b[0m\u001b[0;34m\u001b[0m\u001b[0m\n\u001b[0m\u001b[1;32m    722\u001b[0m \u001b[0;34m\u001b[0m\u001b[0m\n\u001b[1;32m    723\u001b[0m                 \u001b[0;32mif\u001b[0m \u001b[0;32mnot\u001b[0m \u001b[0misinstance\u001b[0m\u001b[0;34m(\u001b[0m\u001b[0mexception\u001b[0m\u001b[0;34m,\u001b[0m \u001b[0mTransportableException\u001b[0m\u001b[0;34m)\u001b[0m\u001b[0;34m:\u001b[0m\u001b[0;34m\u001b[0m\u001b[0m\n",
      "\u001b[0;32m~/anaconda3/lib/python3.6/site-packages/sklearn/externals/joblib/_parallel_backends.py\u001b[0m in \u001b[0;36mabort_everything\u001b[0;34m(self, ensure_ready)\u001b[0m\n\u001b[1;32m    143\u001b[0m     \u001b[0;32mdef\u001b[0m \u001b[0mabort_everything\u001b[0m\u001b[0;34m(\u001b[0m\u001b[0mself\u001b[0m\u001b[0;34m,\u001b[0m \u001b[0mensure_ready\u001b[0m\u001b[0;34m=\u001b[0m\u001b[0;32mTrue\u001b[0m\u001b[0;34m)\u001b[0m\u001b[0;34m:\u001b[0m\u001b[0;34m\u001b[0m\u001b[0m\n\u001b[1;32m    144\u001b[0m         \u001b[0;34m\"\"\"Shutdown the pool and restart a new one with the same parameters\"\"\"\u001b[0m\u001b[0;34m\u001b[0m\u001b[0m\n\u001b[0;32m--> 145\u001b[0;31m         \u001b[0mself\u001b[0m\u001b[0;34m.\u001b[0m\u001b[0mterminate\u001b[0m\u001b[0;34m(\u001b[0m\u001b[0;34m)\u001b[0m\u001b[0;34m\u001b[0m\u001b[0m\n\u001b[0m\u001b[1;32m    146\u001b[0m         \u001b[0;32mif\u001b[0m \u001b[0mensure_ready\u001b[0m\u001b[0;34m:\u001b[0m\u001b[0;34m\u001b[0m\u001b[0m\n\u001b[1;32m    147\u001b[0m             self.configure(n_jobs=self.parallel.n_jobs, parallel=self.parallel,\n",
      "\u001b[0;32m~/anaconda3/lib/python3.6/site-packages/sklearn/externals/joblib/_parallel_backends.py\u001b[0m in \u001b[0;36mterminate\u001b[0;34m(self)\u001b[0m\n\u001b[1;32m    321\u001b[0m     \u001b[0;32mdef\u001b[0m \u001b[0mterminate\u001b[0m\u001b[0;34m(\u001b[0m\u001b[0mself\u001b[0m\u001b[0;34m)\u001b[0m\u001b[0;34m:\u001b[0m\u001b[0;34m\u001b[0m\u001b[0m\n\u001b[1;32m    322\u001b[0m         \u001b[0;34m\"\"\"Shutdown the process or thread pool\"\"\"\u001b[0m\u001b[0;34m\u001b[0m\u001b[0m\n\u001b[0;32m--> 323\u001b[0;31m         \u001b[0msuper\u001b[0m\u001b[0;34m(\u001b[0m\u001b[0mMultiprocessingBackend\u001b[0m\u001b[0;34m,\u001b[0m \u001b[0mself\u001b[0m\u001b[0;34m)\u001b[0m\u001b[0;34m.\u001b[0m\u001b[0mterminate\u001b[0m\u001b[0;34m(\u001b[0m\u001b[0;34m)\u001b[0m\u001b[0;34m\u001b[0m\u001b[0m\n\u001b[0m\u001b[1;32m    324\u001b[0m         \u001b[0;32mif\u001b[0m \u001b[0mself\u001b[0m\u001b[0;34m.\u001b[0m\u001b[0mJOBLIB_SPAWNED_PROCESS\u001b[0m \u001b[0;32min\u001b[0m \u001b[0mos\u001b[0m\u001b[0;34m.\u001b[0m\u001b[0menviron\u001b[0m\u001b[0;34m:\u001b[0m\u001b[0;34m\u001b[0m\u001b[0m\n\u001b[1;32m    325\u001b[0m             \u001b[0;32mdel\u001b[0m \u001b[0mos\u001b[0m\u001b[0;34m.\u001b[0m\u001b[0menviron\u001b[0m\u001b[0;34m[\u001b[0m\u001b[0mself\u001b[0m\u001b[0;34m.\u001b[0m\u001b[0mJOBLIB_SPAWNED_PROCESS\u001b[0m\u001b[0;34m]\u001b[0m\u001b[0;34m\u001b[0m\u001b[0m\n",
      "\u001b[0;32m~/anaconda3/lib/python3.6/site-packages/sklearn/externals/joblib/_parallel_backends.py\u001b[0m in \u001b[0;36mterminate\u001b[0;34m(self)\u001b[0m\n\u001b[1;32m    134\u001b[0m         \u001b[0;32mif\u001b[0m \u001b[0mself\u001b[0m\u001b[0;34m.\u001b[0m\u001b[0m_pool\u001b[0m \u001b[0;32mis\u001b[0m \u001b[0;32mnot\u001b[0m \u001b[0;32mNone\u001b[0m\u001b[0;34m:\u001b[0m\u001b[0;34m\u001b[0m\u001b[0m\n\u001b[1;32m    135\u001b[0m             \u001b[0mself\u001b[0m\u001b[0;34m.\u001b[0m\u001b[0m_pool\u001b[0m\u001b[0;34m.\u001b[0m\u001b[0mclose\u001b[0m\u001b[0;34m(\u001b[0m\u001b[0;34m)\u001b[0m\u001b[0;34m\u001b[0m\u001b[0m\n\u001b[0;32m--> 136\u001b[0;31m             \u001b[0mself\u001b[0m\u001b[0;34m.\u001b[0m\u001b[0m_pool\u001b[0m\u001b[0;34m.\u001b[0m\u001b[0mterminate\u001b[0m\u001b[0;34m(\u001b[0m\u001b[0;34m)\u001b[0m  \u001b[0;31m# terminate does a join()\u001b[0m\u001b[0;34m\u001b[0m\u001b[0m\n\u001b[0m\u001b[1;32m    137\u001b[0m             \u001b[0mself\u001b[0m\u001b[0;34m.\u001b[0m\u001b[0m_pool\u001b[0m \u001b[0;34m=\u001b[0m \u001b[0;32mNone\u001b[0m\u001b[0;34m\u001b[0m\u001b[0m\n\u001b[1;32m    138\u001b[0m \u001b[0;34m\u001b[0m\u001b[0m\n",
      "\u001b[0;32m~/anaconda3/lib/python3.6/site-packages/sklearn/externals/joblib/pool.py\u001b[0m in \u001b[0;36mterminate\u001b[0;34m(self)\u001b[0m\n\u001b[1;32m    604\u001b[0m         \u001b[0;32mfor\u001b[0m \u001b[0mi\u001b[0m \u001b[0;32min\u001b[0m \u001b[0mrange\u001b[0m\u001b[0;34m(\u001b[0m\u001b[0mn_retries\u001b[0m\u001b[0;34m)\u001b[0m\u001b[0;34m:\u001b[0m\u001b[0;34m\u001b[0m\u001b[0m\n\u001b[1;32m    605\u001b[0m             \u001b[0;32mtry\u001b[0m\u001b[0;34m:\u001b[0m\u001b[0;34m\u001b[0m\u001b[0m\n\u001b[0;32m--> 606\u001b[0;31m                 \u001b[0msuper\u001b[0m\u001b[0;34m(\u001b[0m\u001b[0mMemmapingPool\u001b[0m\u001b[0;34m,\u001b[0m \u001b[0mself\u001b[0m\u001b[0;34m)\u001b[0m\u001b[0;34m.\u001b[0m\u001b[0mterminate\u001b[0m\u001b[0;34m(\u001b[0m\u001b[0;34m)\u001b[0m\u001b[0;34m\u001b[0m\u001b[0m\n\u001b[0m\u001b[1;32m    607\u001b[0m                 \u001b[0;32mbreak\u001b[0m\u001b[0;34m\u001b[0m\u001b[0m\n\u001b[1;32m    608\u001b[0m             \u001b[0;32mexcept\u001b[0m \u001b[0mOSError\u001b[0m \u001b[0;32mas\u001b[0m \u001b[0me\u001b[0m\u001b[0;34m:\u001b[0m\u001b[0;34m\u001b[0m\u001b[0m\n",
      "\u001b[0;32m~/anaconda3/lib/python3.6/multiprocessing/pool.py\u001b[0m in \u001b[0;36mterminate\u001b[0;34m(self)\u001b[0m\n\u001b[1;32m    539\u001b[0m         \u001b[0mself\u001b[0m\u001b[0;34m.\u001b[0m\u001b[0m_state\u001b[0m \u001b[0;34m=\u001b[0m \u001b[0mTERMINATE\u001b[0m\u001b[0;34m\u001b[0m\u001b[0m\n\u001b[1;32m    540\u001b[0m         \u001b[0mself\u001b[0m\u001b[0;34m.\u001b[0m\u001b[0m_worker_handler\u001b[0m\u001b[0;34m.\u001b[0m\u001b[0m_state\u001b[0m \u001b[0;34m=\u001b[0m \u001b[0mTERMINATE\u001b[0m\u001b[0;34m\u001b[0m\u001b[0m\n\u001b[0;32m--> 541\u001b[0;31m         \u001b[0mself\u001b[0m\u001b[0;34m.\u001b[0m\u001b[0m_terminate\u001b[0m\u001b[0;34m(\u001b[0m\u001b[0;34m)\u001b[0m\u001b[0;34m\u001b[0m\u001b[0m\n\u001b[0m\u001b[1;32m    542\u001b[0m \u001b[0;34m\u001b[0m\u001b[0m\n\u001b[1;32m    543\u001b[0m     \u001b[0;32mdef\u001b[0m \u001b[0mjoin\u001b[0m\u001b[0;34m(\u001b[0m\u001b[0mself\u001b[0m\u001b[0;34m)\u001b[0m\u001b[0;34m:\u001b[0m\u001b[0;34m\u001b[0m\u001b[0m\n",
      "\u001b[0;32m~/anaconda3/lib/python3.6/multiprocessing/util.py\u001b[0m in \u001b[0;36m__call__\u001b[0;34m(self, wr, _finalizer_registry, sub_debug, getpid)\u001b[0m\n\u001b[1;32m    184\u001b[0m                 sub_debug('finalizer calling %s with args %s and kwargs %s',\n\u001b[1;32m    185\u001b[0m                           self._callback, self._args, self._kwargs)\n\u001b[0;32m--> 186\u001b[0;31m                 \u001b[0mres\u001b[0m \u001b[0;34m=\u001b[0m \u001b[0mself\u001b[0m\u001b[0;34m.\u001b[0m\u001b[0m_callback\u001b[0m\u001b[0;34m(\u001b[0m\u001b[0;34m*\u001b[0m\u001b[0mself\u001b[0m\u001b[0;34m.\u001b[0m\u001b[0m_args\u001b[0m\u001b[0;34m,\u001b[0m \u001b[0;34m**\u001b[0m\u001b[0mself\u001b[0m\u001b[0;34m.\u001b[0m\u001b[0m_kwargs\u001b[0m\u001b[0;34m)\u001b[0m\u001b[0;34m\u001b[0m\u001b[0m\n\u001b[0m\u001b[1;32m    187\u001b[0m             \u001b[0mself\u001b[0m\u001b[0;34m.\u001b[0m\u001b[0m_weakref\u001b[0m \u001b[0;34m=\u001b[0m \u001b[0mself\u001b[0m\u001b[0;34m.\u001b[0m\u001b[0m_callback\u001b[0m \u001b[0;34m=\u001b[0m \u001b[0mself\u001b[0m\u001b[0;34m.\u001b[0m\u001b[0m_args\u001b[0m \u001b[0;34m=\u001b[0m\u001b[0;31m \u001b[0m\u001b[0;31m\\\u001b[0m\u001b[0;34m\u001b[0m\u001b[0m\n\u001b[1;32m    188\u001b[0m                             \u001b[0mself\u001b[0m\u001b[0;34m.\u001b[0m\u001b[0m_kwargs\u001b[0m \u001b[0;34m=\u001b[0m \u001b[0mself\u001b[0m\u001b[0;34m.\u001b[0m\u001b[0m_key\u001b[0m \u001b[0;34m=\u001b[0m \u001b[0;32mNone\u001b[0m\u001b[0;34m\u001b[0m\u001b[0m\n",
      "\u001b[0;32m~/anaconda3/lib/python3.6/multiprocessing/pool.py\u001b[0m in \u001b[0;36m_terminate_pool\u001b[0;34m(cls, taskqueue, inqueue, outqueue, pool, worker_handler, task_handler, result_handler, cache)\u001b[0m\n\u001b[1;32m    587\u001b[0m             \u001b[0;32mfor\u001b[0m \u001b[0mp\u001b[0m \u001b[0;32min\u001b[0m \u001b[0mpool\u001b[0m\u001b[0;34m:\u001b[0m\u001b[0;34m\u001b[0m\u001b[0m\n\u001b[1;32m    588\u001b[0m                 \u001b[0;32mif\u001b[0m \u001b[0mp\u001b[0m\u001b[0;34m.\u001b[0m\u001b[0mexitcode\u001b[0m \u001b[0;32mis\u001b[0m \u001b[0;32mNone\u001b[0m\u001b[0;34m:\u001b[0m\u001b[0;34m\u001b[0m\u001b[0m\n\u001b[0;32m--> 589\u001b[0;31m                     \u001b[0mp\u001b[0m\u001b[0;34m.\u001b[0m\u001b[0mterminate\u001b[0m\u001b[0;34m(\u001b[0m\u001b[0;34m)\u001b[0m\u001b[0;34m\u001b[0m\u001b[0m\n\u001b[0m\u001b[1;32m    590\u001b[0m \u001b[0;34m\u001b[0m\u001b[0m\n\u001b[1;32m    591\u001b[0m         \u001b[0mutil\u001b[0m\u001b[0;34m.\u001b[0m\u001b[0mdebug\u001b[0m\u001b[0;34m(\u001b[0m\u001b[0;34m'joining task handler'\u001b[0m\u001b[0;34m)\u001b[0m\u001b[0;34m\u001b[0m\u001b[0m\n",
      "\u001b[0;32m~/anaconda3/lib/python3.6/multiprocessing/process.py\u001b[0m in \u001b[0;36mterminate\u001b[0;34m(self)\u001b[0m\n\u001b[1;32m    114\u001b[0m         \u001b[0mTerminate\u001b[0m \u001b[0mprocess\u001b[0m\u001b[0;34m;\u001b[0m \u001b[0msends\u001b[0m \u001b[0mSIGTERM\u001b[0m \u001b[0msignal\u001b[0m \u001b[0;32mor\u001b[0m \u001b[0muses\u001b[0m \u001b[0mTerminateProcess\u001b[0m\u001b[0;34m(\u001b[0m\u001b[0;34m)\u001b[0m\u001b[0;34m\u001b[0m\u001b[0m\n\u001b[1;32m    115\u001b[0m         '''\n\u001b[0;32m--> 116\u001b[0;31m         \u001b[0mself\u001b[0m\u001b[0;34m.\u001b[0m\u001b[0m_popen\u001b[0m\u001b[0;34m.\u001b[0m\u001b[0mterminate\u001b[0m\u001b[0;34m(\u001b[0m\u001b[0;34m)\u001b[0m\u001b[0;34m\u001b[0m\u001b[0m\n\u001b[0m\u001b[1;32m    117\u001b[0m \u001b[0;34m\u001b[0m\u001b[0m\n\u001b[1;32m    118\u001b[0m     \u001b[0;32mdef\u001b[0m \u001b[0mjoin\u001b[0m\u001b[0;34m(\u001b[0m\u001b[0mself\u001b[0m\u001b[0;34m,\u001b[0m \u001b[0mtimeout\u001b[0m\u001b[0;34m=\u001b[0m\u001b[0;32mNone\u001b[0m\u001b[0;34m)\u001b[0m\u001b[0;34m:\u001b[0m\u001b[0;34m\u001b[0m\u001b[0m\n",
      "\u001b[0;31mAttributeError\u001b[0m: 'NoneType' object has no attribute 'terminate'"
     ]
    }
   ],
   "source": [
    "%%time\n",
    "# define fixed parameters and parameters to search\n",
    "crf = sklearn_crfsuite.CRF(\n",
    "    algorithm='lbfgs',\n",
    "    max_iterations=100,\n",
    "    all_possible_transitions=True\n",
    ")\n",
    "params = {\n",
    "    'c1': np.logspace(-1, 2, 3),\n",
    "    'c2': np.logspace(-1, 2, 3),\n",
    "}\n",
    "\n",
    "# use the same metric for evaluation\n",
    "f1_scorer = make_scorer(metrics.f1_score,\n",
    "                         average='weighted')\n",
    "\n",
    "# search\n",
    "rs = GridSearchCV(crf, params,\n",
    "                        cv=3,\n",
    "                        verbose=1,\n",
    "                        n_jobs=-1,\n",
    "                        scoring=f1_scorer)\n",
    "rs.fit(X_train_2, y_train_2)"
   ]
  },
  {
   "cell_type": "markdown",
   "metadata": {},
   "source": [
    "## 4 Evaluation"
   ]
  },
  {
   "cell_type": "markdown",
   "metadata": {},
   "source": [
    "Ещё раз натренируем лучший тэггер."
   ]
  },
  {
   "cell_type": "code",
   "execution_count": 39,
   "metadata": {},
   "outputs": [
    {
     "name": "stdout",
     "output_type": "stream",
     "text": [
      "Training...\n",
      "-rw-rw-r-- 1 socur socur 36M июн 17 23:30 ./ruscorpora.crfsuite\n",
      "Saved.\n"
     ]
    }
   ],
   "source": [
    "trainer = pycrfsuite.Trainer(verbose=False)\n",
    "\n",
    "for xseq, yseq in zip(X_train_2, y_train_2):\n",
    "    trainer.append(xseq, yseq)\n",
    "        \n",
    "trainer.set_params(params_c)\n",
    "    \n",
    "print('Training...')\n",
    "trainer.train('ruscorpora.crfsuite')\n",
    "!ls -lh ./ruscorpora.crfsuite\n",
    "print('Saved.')"
   ]
  },
  {
   "cell_type": "code",
   "execution_count": 10,
   "metadata": {},
   "outputs": [],
   "source": [
    "tagger = pycrfsuite.Tagger()\n",
    "tagger.open('ruscorpora.crfsuite')\n",
    "\n",
    "y_pred = [tagger.tag(xseq) for xseq in X_test_2]\n",
    "binizer = MultiLabelBinarizer(classes=['A', 'A-PRO', 'ADV', 'ADV-PRO', 'ANUM', 'CONJ', \n",
    "                                           'INIT', 'INTJ', 'NONLEX', 'NUM', 'PARENTH', 'PART', \n",
    "                                           'PR', 'PRAEDIC', 'PRAEDIC-PRO', 'S', 'S-PRO', 'V'])"
   ]
  },
  {
   "cell_type": "code",
   "execution_count": 19,
   "metadata": {},
   "outputs": [],
   "source": [
    "y_pred_bin = binizer.fit_transform(y_pred)\n",
    "y_test_bin = binizer.transform(y_test_2)"
   ]
  },
  {
   "cell_type": "code",
   "execution_count": 52,
   "metadata": {},
   "outputs": [
    {
     "data": {
      "text/plain": [
       "array(['A', 'A-PRO', 'ADV', 'ADV-PRO', 'ANUM', 'CONJ', 'INIT', 'INTJ',\n",
       "       'NONLEX', 'NUM', 'PARENTH', 'PART', 'PR', 'PRAEDIC', 'PRAEDIC-PRO',\n",
       "       'S', 'S-PRO', 'V'], dtype=object)"
      ]
     },
     "execution_count": 52,
     "metadata": {},
     "output_type": "execute_result"
    }
   ],
   "source": [
    "binizer.classes_"
   ]
  },
  {
   "cell_type": "code",
   "execution_count": 41,
   "metadata": {
    "collapsed": true
   },
   "outputs": [],
   "source": [
    "labels = ['A', 'A-PRO', 'ADV', 'ADV-PRO', 'ANUM', 'CONJ', \n",
    "                    'INIT', 'INTJ', 'NONLEX', 'NUM', 'PARENTH', 'PART', \n",
    "                    'PR', 'PRAEDIC', 'PRAEDIC-PRO', 'S', 'S-PRO', 'V']"
   ]
  },
  {
   "cell_type": "code",
   "execution_count": 42,
   "metadata": {},
   "outputs": [],
   "source": [
    "import seaborn as sns\n",
    "import matplotlib.pyplot as plt\n",
    "%matplotlib inline  \n",
    "from sklearn.metrics import confusion_matrix"
   ]
  },
  {
   "cell_type": "code",
   "execution_count": 68,
   "metadata": {},
   "outputs": [
    {
     "name": "stdout",
     "output_type": "stream",
     "text": [
      "[[21220     4   254     2     0     0     1     0    22    27    16    21\n",
      "      2    98     0  4081     0  1328]\n",
      " [   78 13113     0     0    31    12     0     0     1     2     0    13\n",
      "      2     0     0    88   569    26]\n",
      " [  385    28  9634    20     0    30     0     0     4    46    49    68\n",
      "     55    66     0   551   135   312]\n",
      " [   20     2    47  5796     0   513     0     0     0    63     3     9\n",
      "      0     5     0    45    61    17]\n",
      " [   72   211     0     0   909     0     0     0     7     9     0     0\n",
      "      0     0     0   154     0    36]\n",
      " [    4     5    46   152     0 21478     2     0     0     0     0   413\n",
      "      0     0     0    28   206     8]\n",
      " [    3     0     0     0     0    32  1021     0     3     0     0     0\n",
      "     55     0     0    32     3     3]\n",
      " [   15     0     3     0     0     8     5   166     0     0     0     0\n",
      "      7     0     0    55     0    19]\n",
      " [  228    10     0     0     8     7     6     0  1743     5     0     5\n",
      "     12     0     0   509     2    66]\n",
      " [  116     5    85    20    29     0     0     0    49  7107     0     0\n",
      "      0     5     0   321     0    33]\n",
      " [   36     0    84     1     0     1     0     0     0     0  1213    19\n",
      "      0    12     0    46     0    92]\n",
      " [   16    10   154   103     0   308    10     5     0     0    30 11419\n",
      "     10    58     0    31   432    30]\n",
      " [   16     0    28     0     0     0    16     0     0     0     0     3\n",
      "  30135     2     0    32     0    11]\n",
      " [  163     0   168     2     0     0     0     0     0    45    11    53\n",
      "      3  1737     1    78     9    48]\n",
      " [    0     0     0     0     0     0     0     0     0     0     0     0\n",
      "      0     0    15     1     0     0]\n",
      " [ 2781     9    32     1     4     4    18     6    77    24    16     3\n",
      "     86    10     0 81560    28  2050]\n",
      " [   11   539    12    10     0   542     0     0     0     0     0    36\n",
      "      0     1     0    54 19751    12]\n",
      " [ 2143     3    20     1     0     1     0     0    19     5    36     6\n",
      "      0     0     0  4109     0 37991]]\n"
     ]
    }
   ],
   "source": [
    "print(confusion_matrix([lab for sent in y_test_2 for lab in sent], [lab for sent in y_pred for lab in sent], \n",
    "                       labels=labels))"
   ]
  },
  {
   "cell_type": "code",
   "execution_count": 69,
   "metadata": {},
   "outputs": [
    {
     "data": {
      "image/png": "[encoded data removed]",
      "text/plain": [
       "<matplotlib.figure.Figure at 0x7fbc35e96048>"
      ]
     },
     "metadata": {},
     "output_type": "display_data"
    }
   ],
   "source": [
    "fig, ax = plt.subplots(figsize=(10,5))\n",
    "sns.heatmap(data=confusion_matrix([lab for sent in y_test_2 for lab in sent], [lab for sent in y_pred for lab in sent],\n",
    "                                  labels=binizer.classes_), \n",
    "            annot=True, \n",
    "            fmt=\"d\", xticklabels=labels, yticklabels=labels, ax=ax)\n",
    "plt.title(\"Confusion matrix\")\n",
    "plt.show()"
   ]
  },
  {
   "cell_type": "code",
   "execution_count": 33,
   "metadata": {},
   "outputs": [],
   "source": [
    "from nltk.tokenize import word_tokenize"
   ]
  },
  {
   "cell_type": "code",
   "execution_count": 34,
   "metadata": {},
   "outputs": [],
   "source": [
    "from string import punctuation, digits\n",
    "punctuation = set(punctuation + '«»—–…“”\\\\n\\\\t№' + digits) - set('-')\n",
    "table = str.maketrans({ch: ' ' for ch in punctuation})"
   ]
  },
  {
   "cell_type": "code",
   "execution_count": 35,
   "metadata": {},
   "outputs": [
    {
     "data": {
      "text/plain": [
       "['PART', 'CONJ', 'PR', 'S', 'S']"
      ]
     },
     "execution_count": 35,
     "metadata": {},
     "output_type": "execute_result"
    }
   ],
   "source": [
    "sent = u'Хорошо, когда на улице солнце'\n",
    "tagger.tag(sent2features([[item] for item in word_tokenize(sent.translate(table))], 2))"
   ]
  },
  {
   "cell_type": "code",
   "execution_count": null,
   "metadata": {},
   "outputs": [],
   "source": [
    "with open('test.txt', 'r', encoding='utf-8') as f:\n",
    "    with open('output', 'a', encoding='utf-8') as fw:\n",
    "        text = f.read()\n",
    "        text = text.translate(table)\n",
    "        res = tagger.tag(sent2features([[item] for item in word_tokenize(text)], 2))\n",
    "        for elem1, elem2 in zip(word_tokenize(text), res):\n",
    "            fw.write(elem1 + '\\t' + elem2 + '\\n')"
   ]
  }
 ],
 "metadata": {
  "kernelspec": {
   "display_name": "Python 3",
   "language": "python",
   "name": "python3"
  },
  "language_info": {
   "codemirror_mode": {
    "name": "ipython",
    "version": 3
   },
   "file_extension": ".py",
   "mimetype": "text/x-python",
   "name": "python",
   "nbconvert_exporter": "python",
   "pygments_lexer": "ipython3",
   "version": "3.5.2"
  }
 },
 "nbformat": 4,
 "nbformat_minor": 1
}
