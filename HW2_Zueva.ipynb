{
 "cells": [
  {
   "cell_type": "markdown",
   "metadata": {},
   "source": [
    "# S_Preprocessing"
   ]
  },
  {
   "cell_type": "markdown",
   "metadata": {},
   "source": [
    "<img src=\"data/imgs/photo-1472737817652-4120ab61af6c.jpeg\">"
   ]
  },
  {
   "cell_type": "markdown",
   "metadata": {},
   "source": [
    "Компьютеры не понимают человеческие языки, поэтому текстовые данные нужно каким-то образом преобразовывать. Это часто не простой и не тривиальный процесс. На этом занятии мы разберем основные способы очистки данных, нормализации и векторизации. Также мы посмотрим на готовые интрументы, предназначенные для работы с русским языком. В конце занятия мы попробуем порешать задачу автоматического определения тональности твитов."
   ]
  },
  {
   "cell_type": "markdown",
   "metadata": {},
   "source": [
    "## Очистка данных"
   ]
  },
  {
   "cell_type": "markdown",
   "metadata": {},
   "source": [
    "Часто в данных, с которыми нам нужно работать помимо текста присутствует ещё какая-то лишняя информация: тэги, ссылки, код, разметка. От всего этого нужно избавляться."
   ]
  },
  {
   "cell_type": "code",
   "execution_count": 3,
   "metadata": {},
   "outputs": [],
   "source": [
    "import string\n",
    "from nltk.tokenize import word_tokenize, wordpunct_tokenize\n",
    "from pymorphy2 import MorphAnalyzer\n",
    "from pymystem3 import Mystem\n",
    "from nltk.corpus import stopwords\n",
    "from string import punctuation\n",
    "import re\n",
    "mystem = Mystem()\n",
    "morph = MorphAnalyzer()"
   ]
  },
  {
   "cell_type": "code",
   "execution_count": 4,
   "metadata": {},
   "outputs": [],
   "source": [
    "import pandas as pd\n",
    "import numpy as np\n",
    "from sklearn.feature_extraction.text import TfidfVectorizer, CountVectorizer\n",
    "from sklearn.linear_model import LogisticRegression\n",
    "from sklearn.ensemble import RandomForestClassifier\n",
    "from sklearn.metrics import precision_score, recall_score, f1_score, confusion_matrix, classification_report\n",
    "from sklearn.model_selection import GridSearchCV\n",
    "from scipy.sparse import hstack, vstack\n",
    "import matplotlib.pyplot as plt\n",
    "%matplotlib inline  \n",
    "pd.set_option('max_colwidth', 1000)"
   ]
  },
  {
   "cell_type": "code",
   "execution_count": 5,
   "metadata": {},
   "outputs": [],
   "source": [
    "import warnings\n",
    "warnings.filterwarnings('ignore')"
   ]
  },
  {
   "cell_type": "code",
   "execution_count": 6,
   "metadata": {},
   "outputs": [],
   "source": [
    "train_data = pd.read_csv('data/sentiment_twitter/train_sentiment_ttk.tsv', sep='\\t')\n",
    "test_data = pd.read_csv('data/sentiment_twitter/test_sentiment_ttk.tsv', sep='\\t')"
   ]
  },
  {
   "cell_type": "code",
   "execution_count": 7,
   "metadata": {},
   "outputs": [
    {
     "data": {
      "text/html": [
       "<div>\n",
       "<style scoped>\n",
       "    .dataframe tbody tr th:only-of-type {\n",
       "        vertical-align: middle;\n",
       "    }\n",
       "\n",
       "    .dataframe tbody tr th {\n",
       "        vertical-align: top;\n",
       "    }\n",
       "\n",
       "    .dataframe thead th {\n",
       "        text-align: right;\n",
       "    }\n",
       "</style>\n",
       "<table border=\"1\" class=\"dataframe\">\n",
       "  <thead>\n",
       "    <tr style=\"text-align: right;\">\n",
       "      <th></th>\n",
       "      <th>label</th>\n",
       "      <th>text</th>\n",
       "    </tr>\n",
       "  </thead>\n",
       "  <tbody>\n",
       "    <tr>\n",
       "      <th>0</th>\n",
       "      <td>0</td>\n",
       "      <td>@mkomov Максим, Вашем письмо мы получили. Наши сотрудники свяжутся с Вами завтра и направят запрос инженерам для проверки. #билайн</td>\n",
       "    </tr>\n",
       "    <tr>\n",
       "      <th>1</th>\n",
       "      <td>0</td>\n",
       "      <td>«Мегафон» стал владельцем 50% акций «Евросети»</td>\n",
       "    </tr>\n",
       "    <tr>\n",
       "      <th>2</th>\n",
       "      <td>-1</td>\n",
       "      <td>RT @fuckkiev: “@EvaKobb: МТС Россия прислала жителям Херсонщины сообщения, в которых обозвала украинцев фашистами? http://t.co/RbSesXlOUZ” …</td>\n",
       "    </tr>\n",
       "    <tr>\n",
       "      <th>3</th>\n",
       "      <td>1</td>\n",
       "      <td>ВИДЕО: http://t.co/PSMLAhR4fI Реклама со смехом МТС - Супер 0</td>\n",
       "    </tr>\n",
       "    <tr>\n",
       "      <th>4</th>\n",
       "      <td>-1</td>\n",
       "      <td>@parfenov1960 потому что МТС достало, а пчел ненавижу с детства, как и их мёд!</td>\n",
       "    </tr>\n",
       "  </tbody>\n",
       "</table>\n",
       "</div>"
      ],
      "text/plain": [
       "   label  \\\n",
       "0      0   \n",
       "1      0   \n",
       "2     -1   \n",
       "3      1   \n",
       "4     -1   \n",
       "\n",
       "                                                                                                                                           text  \n",
       "0            @mkomov Максим, Вашем письмо мы получили. Наши сотрудники свяжутся с Вами завтра и направят запрос инженерам для проверки. #билайн  \n",
       "1                                                                                                «Мегафон» стал владельцем 50% акций «Евросети»  \n",
       "2  RT @fuckkiev: “@EvaKobb: МТС Россия прислала жителям Херсонщины сообщения, в которых обозвала украинцев фашистами? http://t.co/RbSesXlOUZ” …  \n",
       "3                                                                                 ВИДЕО: http://t.co/PSMLAhR4fI Реклама со смехом МТС - Супер 0  \n",
       "4                                                                @parfenov1960 потому что МТС достало, а пчел ненавижу с детства, как и их мёд!  "
      ]
     },
     "execution_count": 7,
     "metadata": {},
     "output_type": "execute_result"
    }
   ],
   "source": [
    "train_data.head()"
   ]
  },
  {
   "cell_type": "code",
   "execution_count": 8,
   "metadata": {},
   "outputs": [
    {
     "data": {
      "text/html": [
       "<div>\n",
       "<style scoped>\n",
       "    .dataframe tbody tr th:only-of-type {\n",
       "        vertical-align: middle;\n",
       "    }\n",
       "\n",
       "    .dataframe tbody tr th {\n",
       "        vertical-align: top;\n",
       "    }\n",
       "\n",
       "    .dataframe thead th {\n",
       "        text-align: right;\n",
       "    }\n",
       "</style>\n",
       "<table border=\"1\" class=\"dataframe\">\n",
       "  <thead>\n",
       "    <tr style=\"text-align: right;\">\n",
       "      <th></th>\n",
       "      <th>label</th>\n",
       "      <th>text</th>\n",
       "    </tr>\n",
       "  </thead>\n",
       "  <tbody>\n",
       "    <tr>\n",
       "      <th>0</th>\n",
       "      <td>-1</td>\n",
       "      <td>RT vzglyad: По делу о работе МТС в Узбекистане США предложили заморозить 300 млн</td>\n",
       "    </tr>\n",
       "    <tr>\n",
       "      <th>1</th>\n",
       "      <td>0</td>\n",
       "      <td>RT @kevinuyatukox: http://t.co/ljtrjq91v3 #Кредитные карты мегафон банка</td>\n",
       "    </tr>\n",
       "    <tr>\n",
       "      <th>2</th>\n",
       "      <td>0</td>\n",
       "      <td>#Оформить кредитную карту в банке мтс http://t.co/vv1B6PMWgH</td>\n",
       "    </tr>\n",
       "    <tr>\n",
       "      <th>3</th>\n",
       "      <td>0</td>\n",
       "      <td>#Как перевести деньги с билайна на кредитную карту</td>\n",
       "    </tr>\n",
       "    <tr>\n",
       "      <th>4</th>\n",
       "      <td>0</td>\n",
       "      <td>#Начальник отдела кредитного контроля оао мтс усачева н а</td>\n",
       "    </tr>\n",
       "  </tbody>\n",
       "</table>\n",
       "</div>"
      ],
      "text/plain": [
       "   label  \\\n",
       "0     -1   \n",
       "1      0   \n",
       "2      0   \n",
       "3      0   \n",
       "4      0   \n",
       "\n",
       "                                                                               text  \n",
       "0  RT vzglyad: По делу о работе МТС в Узбекистане США предложили заморозить 300 млн  \n",
       "1          RT @kevinuyatukox: http://t.co/ljtrjq91v3 #Кредитные карты мегафон банка  \n",
       "2                      #Оформить кредитную карту в банке мтс http://t.co/vv1B6PMWgH  \n",
       "3                                #Как перевести деньги с билайна на кредитную карту  \n",
       "4                         #Начальник отдела кредитного контроля оао мтс усачева н а  "
      ]
     },
     "execution_count": 8,
     "metadata": {},
     "output_type": "execute_result"
    }
   ],
   "source": [
    "test_data.head()"
   ]
  },
  {
   "cell_type": "markdown",
   "metadata": {},
   "source": [
    "Проверим распределение классов (-1 - негативный отзыв, 1 - положительный, 0 - отрицательный)"
   ]
  },
  {
   "cell_type": "code",
   "execution_count": 9,
   "metadata": {},
   "outputs": [
    {
     "data": {
      "text/plain": [
       "<matplotlib.axes._subplots.AxesSubplot at 0x7fc5272b1ba8>"
      ]
     },
     "execution_count": 9,
     "metadata": {},
     "output_type": "execute_result"
    },
    {
     "data": {
      "image/png": "[encoded data removed]",
      "text/plain": [
       "<matplotlib.figure.Figure at 0x7fc52f1720b8>"
      ]
     },
     "metadata": {},
     "output_type": "display_data"
    }
   ],
   "source": [
    "train_data.label.hist()"
   ]
  },
  {
   "cell_type": "code",
   "execution_count": 10,
   "metadata": {},
   "outputs": [
    {
     "data": {
      "text/plain": [
       "<matplotlib.axes._subplots.AxesSubplot at 0x7fc52507d748>"
      ]
     },
     "execution_count": 10,
     "metadata": {},
     "output_type": "execute_result"
    },
    {
     "data": {
      "image/png": "[encoded data removed]",
      "text/plain": [
       "<matplotlib.figure.Figure at 0x7fc525050278>"
      ]
     },
     "metadata": {},
     "output_type": "display_data"
    }
   ],
   "source": [
    "test_data.label.hist()"
   ]
  },
  {
   "cell_type": "markdown",
   "metadata": {},
   "source": [
    "Видно, что положительный заметно меньше. "
   ]
  },
  {
   "cell_type": "markdown",
   "metadata": {},
   "source": [
    "Посмотрим на какой-нибудь негативный твит."
   ]
  },
  {
   "cell_type": "code",
   "execution_count": 11,
   "metadata": {},
   "outputs": [
    {
     "data": {
      "text/plain": [
       "'@parfenov1960 Фуфло эт ваш Мегафон.просит много,дает мало.'"
      ]
     },
     "execution_count": 11,
     "metadata": {},
     "output_type": "execute_result"
    }
   ],
   "source": [
    "train_data['text'][10]"
   ]
  },
  {
   "cell_type": "markdown",
   "metadata": {},
   "source": [
    "И на положительный"
   ]
  },
  {
   "cell_type": "code",
   "execution_count": 12,
   "metadata": {},
   "outputs": [
    {
     "data": {
      "text/plain": [
       "'«МегаФон» поможет контролировать расходы на Интернет за границей'"
      ]
     },
     "execution_count": 12,
     "metadata": {},
     "output_type": "execute_result"
    }
   ],
   "source": [
    "train_data['text'][9]"
   ]
  },
  {
   "cell_type": "markdown",
   "metadata": {},
   "source": [
    "## Бейзлайн"
   ]
  },
  {
   "cell_type": "markdown",
   "metadata": {},
   "source": [
    "В начале стоит попробовать самый простой возможный вариант. \n",
    "Count_vectorizer - без какой-либо нормализации подойдет."
   ]
  },
  {
   "cell_type": "markdown",
   "metadata": {},
   "source": [
    "Почти у всего в sklearn индентичный интерфейс. \n",
    "1. Нужно инициализировать нужный объект\n",
    "\n",
    "    ***`vectorizer = CountVectorizer()`***\n",
    "\n",
    "2. \"Обучить\" модель на наших данных.\n",
    "    \n",
    "    ***`vectorizer.fit(texts)`***\n",
    "    \n",
    "3. Преобразовать с помощью обученной модели наши данные в вектора.\n",
    "    \n",
    "    ***`X = vectorizer.transform(texts)`***"
   ]
  },
  {
   "cell_type": "code",
   "execution_count": 13,
   "metadata": {},
   "outputs": [],
   "source": [
    "# посмотрим какие опции есть у count_vectorizer\n",
    "?CountVectorizer"
   ]
  },
  {
   "cell_type": "code",
   "execution_count": 14,
   "metadata": {},
   "outputs": [],
   "source": [
    "# у count_vectorizer есть встроенный токенизатор, поэтому можно подавать текст напрямую\n",
    "# обучим векторайзер на обучающей выборке и преобразуем тексты в векторы\n",
    "count_vectorizer = CountVectorizer()\n",
    "count_vectorizer.fit(train_data.text.values) \n",
    "\n",
    "X_train = count_vectorizer.transform(train_data.text.values)\n",
    "X_test = count_vectorizer.transform(test_data.text.values)"
   ]
  },
  {
   "cell_type": "code",
   "execution_count": 15,
   "metadata": {},
   "outputs": [
    {
     "data": {
      "text/plain": [
       "(8208, 20511)"
      ]
     },
     "execution_count": 15,
     "metadata": {},
     "output_type": "execute_result"
    }
   ],
   "source": [
    "# посмотрим на размеры матрицы\n",
    "# первое число - количество твитов\n",
    "# второе - размер каждого вектора (равен размеру словаря)\n",
    "X_train.shape"
   ]
  },
  {
   "cell_type": "code",
   "execution_count": 16,
   "metadata": {},
   "outputs": [
    {
     "data": {
      "text/plain": [
       "(2054, 20511)"
      ]
     },
     "execution_count": 16,
     "metadata": {},
     "output_type": "execute_result"
    }
   ],
   "source": [
    "# нужно чтобы второе число совпадало в обучающей и тестовой выборке\n",
    "X_test.shape"
   ]
  },
  {
   "cell_type": "code",
   "execution_count": 17,
   "metadata": {},
   "outputs": [],
   "source": [
    "# выделим классы в отдельные переменные\n",
    "y_train = train_data.label.values\n",
    "y_test = test_data.label.values"
   ]
  },
  {
   "cell_type": "markdown",
   "metadata": {},
   "source": [
    "В качесте классификатора будем использовать Логистическую регрессию."
   ]
  },
  {
   "cell_type": "markdown",
   "metadata": {},
   "source": [
    "Интерфейс почти в точности такой же. \n",
    "1. Нужно инициализировать нужный объект\n",
    "\n",
    "    ***`clf = LogisticRegression()`***\n",
    "\n",
    "2. Обучить модель на наших заранее преобразованных данных.\n",
    "    \n",
    "    ***`clf.fit(X)`***\n",
    "    \n",
    "3. Предсказать классы на новых данных.\n",
    "    \n",
    "    ***`preds = clf.predict(texts)`***"
   ]
  },
  {
   "cell_type": "code",
   "execution_count": 18,
   "metadata": {},
   "outputs": [],
   "source": [
    "#также можно для начала посмотреть параметры\n",
    "#основной параметр это С, коэффициент регуляризации.\n",
    "#Регуляризация нужна для того, чтобы ограничить значения выучиваемых параметров, чтобы избежать переобучения\n",
    "# l2 стоит по умолчанию и обычно лучше работает, но\n",
    "# l1 зануляет ненужные признаки и увеличивает значения важных\n",
    "# поэтому её можно использовать для отбора признаков\n",
    "#попробуйте перебрать значения (0.01, 0.1, 1(по умолчанию), 10, 100)\n",
    "?LogisticRegression"
   ]
  },
  {
   "cell_type": "code",
   "execution_count": 19,
   "metadata": {},
   "outputs": [
    {
     "data": {
      "text/plain": [
       "LogisticRegression(C=0.1, class_weight=None, dual=False, fit_intercept=True,\n",
       "          intercept_scaling=1, max_iter=100, multi_class='ovr', n_jobs=1,\n",
       "          penalty='l1', random_state=None, solver='liblinear', tol=0.0001,\n",
       "          verbose=0, warm_start=False)"
      ]
     },
     "execution_count": 19,
     "metadata": {},
     "output_type": "execute_result"
    }
   ],
   "source": [
    "clf = LogisticRegression(penalty=\"l1\", C=0.1)\n",
    "clf.fit(X_train, y_train)"
   ]
  },
  {
   "cell_type": "code",
   "execution_count": 20,
   "metadata": {},
   "outputs": [],
   "source": [
    "# предскажем значения тестовых твитов\n",
    "y_pred = clf.predict(X_test)"
   ]
  },
  {
   "cell_type": "code",
   "execution_count": 21,
   "metadata": {},
   "outputs": [
    {
     "name": "stdout",
     "output_type": "stream",
     "text": [
      "             precision    recall  f1-score   support\n",
      "\n",
      "         -1       0.69      0.59      0.64       902\n",
      "          0       0.61      0.80      0.69       972\n",
      "          1       0.30      0.03      0.06       180\n",
      "\n",
      "avg / total       0.62      0.64      0.61      2054\n",
      "\n",
      "Макросредняя F1 мера -  0.46306421211286786\n",
      "Микросредняя F1 мера -  0.6387536514118792\n"
     ]
    }
   ],
   "source": [
    "# замерим качество классификации\n",
    "print(classification_report(y_test, y_pred))\n",
    "print('Макросредняя F1 мера - ',f1_score(y_test, y_pred, average='macro'))\n",
    "print('Микросредняя F1 мера - ',f1_score(y_test, y_pred, average='micro'))"
   ]
  },
  {
   "cell_type": "markdown",
   "metadata": {},
   "source": [
    "У некоторых классификаторов можно посмотреть значимость признаков. У логрега они хранится в ***clf.coef_*** . Это массив размером (количество классов, количество признаков). \n",
    "\n",
    "Признаки можно достать из векторайзера с помощью метода ***get_feature_names***.\n",
    "\n",
    "Вместе их можно соотнести встроеной функцией *zip*. При использовании **L1** регуляризации значений признака можно интерпретировать как важность."
   ]
  },
  {
   "cell_type": "code",
   "execution_count": 22,
   "metadata": {},
   "outputs": [],
   "source": [
    "def print_important(vectorizer, clf, topn=10):\n",
    "    features = vectorizer.get_feature_names()\n",
    "    classes = clf.classes_\n",
    "    importances = clf.coef_\n",
    "    for i, cls in enumerate(classes):\n",
    "        print('Значимые слова для класса - ', cls)\n",
    "        important_words = sorted(list(zip(features, importances[i])), key=lambda x: abs(x[1]), reverse=True)[:topn]\n",
    "        print([word for word,_ in important_words])\n",
    "        print()"
   ]
  },
  {
   "cell_type": "code",
   "execution_count": 23,
   "metadata": {},
   "outputs": [
    {
     "name": "stdout",
     "output_type": "stream",
     "text": [
      "Значимые слова для класса -  -1\n",
      "['сбой', 'tele2', 'старые', 'нет', 'проблемы', 'тарифов', 'сука', 'просит', 'отключили', 'крыму']\n",
      "\n",
      "Значимые слова для класса -  0\n",
      "['пожалуйста', 'гонконгские', 'связь', 'просит', 'цены', '20', 'иа', 'здравствуйте', 'скачать', 'для']\n",
      "\n",
      "Значимые слова для класса -  1\n",
      "['узбекистан', 'спасибо', 'клиенты', 'люблю', 'запустил', 'области', 'пожалуйста', '4g', 'увеличил', 'теперь']\n",
      "\n"
     ]
    }
   ],
   "source": [
    "print_important(count_vectorizer, clf)"
   ]
  },
  {
   "cell_type": "markdown",
   "metadata": {},
   "source": [
    "### Попробуем теперь TfidfVectorizer."
   ]
  },
  {
   "cell_type": "code",
   "execution_count": 24,
   "metadata": {},
   "outputs": [],
   "source": [
    "# интерфейс точно такой же, но немного отличаются параметры\n",
    "# токенизация по умолчанию также включена, поэтому подаём текст как есть\n",
    "?TfidfVectorizer"
   ]
  },
  {
   "cell_type": "code",
   "execution_count": 25,
   "metadata": {},
   "outputs": [],
   "source": [
    "tfidf = TfidfVectorizer()\n",
    "tfidf.fit(train_data.text.values)\n",
    "X_train = tfidf.transform(train_data.text.values)\n",
    "X_test = tfidf.transform(test_data.text.values)"
   ]
  },
  {
   "cell_type": "code",
   "execution_count": 26,
   "metadata": {},
   "outputs": [
    {
     "data": {
      "text/plain": [
       "(8208, 20511)"
      ]
     },
     "execution_count": 26,
     "metadata": {},
     "output_type": "execute_result"
    }
   ],
   "source": [
    "X_train.shape"
   ]
  },
  {
   "cell_type": "code",
   "execution_count": 27,
   "metadata": {},
   "outputs": [
    {
     "data": {
      "text/plain": [
       "LogisticRegression(C=1.0, class_weight=None, dual=False, fit_intercept=True,\n",
       "          intercept_scaling=1, max_iter=100, multi_class='ovr', n_jobs=1,\n",
       "          penalty='l1', random_state=None, solver='liblinear', tol=0.0001,\n",
       "          verbose=0, warm_start=False)"
      ]
     },
     "execution_count": 27,
     "metadata": {},
     "output_type": "execute_result"
    }
   ],
   "source": [
    "clf = LogisticRegression(penalty='l1')\n",
    "clf.fit(X_train, y_train)"
   ]
  },
  {
   "cell_type": "code",
   "execution_count": 28,
   "metadata": {},
   "outputs": [],
   "source": [
    "y_pred = clf.predict(X_test)"
   ]
  },
  {
   "cell_type": "code",
   "execution_count": 29,
   "metadata": {},
   "outputs": [
    {
     "name": "stdout",
     "output_type": "stream",
     "text": [
      "             precision    recall  f1-score   support\n",
      "\n",
      "         -1       0.70      0.69      0.69       902\n",
      "          0       0.66      0.76      0.71       972\n",
      "          1       0.37      0.09      0.15       180\n",
      "\n",
      "avg / total       0.65      0.67      0.65      2054\n",
      "\n",
      "Макросредняя F1 мера -  0.5172604008633273\n",
      "Микросредняя F1 мера -  0.6708860759493671\n"
     ]
    }
   ],
   "source": [
    "# замерим качество классификации\n",
    "print(classification_report(y_test, y_pred))\n",
    "print('Макросредняя F1 мера - ',f1_score(y_test, y_pred, average='macro'))\n",
    "print('Микросредняя F1 мера - ',f1_score(y_test, y_pred, average='micro'))"
   ]
  },
  {
   "cell_type": "markdown",
   "metadata": {},
   "source": [
    "Также бывает полезно посмотреть на confision matrix."
   ]
  },
  {
   "cell_type": "markdown",
   "metadata": {},
   "source": [
    "Для красоты визуализируем с помощью библиотеки seaborn."
   ]
  },
  {
   "cell_type": "code",
   "execution_count": 30,
   "metadata": {},
   "outputs": [],
   "source": [
    "#!pip install seaborn"
   ]
  },
  {
   "cell_type": "code",
   "execution_count": 31,
   "metadata": {},
   "outputs": [],
   "source": [
    "import seaborn as sns"
   ]
  },
  {
   "cell_type": "code",
   "execution_count": 32,
   "metadata": {},
   "outputs": [
    {
     "data": {
      "image/png": "[encoded data removed]",
      "text/plain": [
       "<matplotlib.figure.Figure at 0x7fc524a1e780>"
      ]
     },
     "metadata": {},
     "output_type": "display_data"
    }
   ],
   "source": [
    "labels = clf.classes_\n",
    "fig, ax = plt.subplots(figsize=(10,5))\n",
    "sns.heatmap(data=confusion_matrix(y_test, y_pred), annot=True, \n",
    "            fmt=\"d\", xticklabels=labels, yticklabels=labels, ax=ax)\n",
    "plt.title(\"Confusion matrix\")\n",
    "plt.show()"
   ]
  },
  {
   "cell_type": "code",
   "execution_count": 33,
   "metadata": {},
   "outputs": [
    {
     "data": {
      "text/plain": [
       "array([[619, 265,  18],\n",
       "       [219, 742,  11],\n",
       "       [ 43, 120,  17]])"
      ]
     },
     "execution_count": 33,
     "metadata": {},
     "output_type": "execute_result"
    }
   ],
   "source": [
    "# если не устанавливается, посмотрите просто так\n",
    "confusion_matrix(y_test, y_pred)"
   ]
  },
  {
   "cell_type": "code",
   "execution_count": 34,
   "metadata": {},
   "outputs": [
    {
     "name": "stdout",
     "output_type": "stream",
     "text": [
      "Значимые слова для класса -  -1\n",
      "['сбой', 'tele2', 'старые', 'не', 'сука', 'говно', 'просит', 'проблемы', 'крыму', 'фас', 'нет', 'лежит', 'опять', 'http', 'спасибо', 'тарифов', 'украина', 'для', 'донецке', 'цены']\n",
      "\n",
      "Значимые слова для класса -  0\n",
      "['иа', 'просит', 'сбой', 'гонконгские', 'цены', 'границы', 'пожалуйста', 'сн', 'связь', 'ловит', 'здравствуйте', 'инструкция', 'люблю', 'http', 'для', 'ион', 'обратилась', 'долларов', 'даже', 'номер']\n",
      "\n",
      "Значимые слова для класса -  1\n",
      "['люблю', 'узбекистан', 'спасибо', 'расходы', 'пожалуйста', 'подарок', 'клиенты', 'бесплатный', 'увеличил', 'защиты', 'не', 'мировое', 'заработал', 'запустил', 'области', 'beeline_rus', 'хорошего', 'реклама', 'водителей', 'номер']\n",
      "\n"
     ]
    }
   ],
   "source": [
    "print_important(tfidf, clf, 20)"
   ]
  },
  {
   "cell_type": "markdown",
   "metadata": {},
   "source": [
    "## Улучшение качества классификации"
   ]
  },
  {
   "cell_type": "markdown",
   "metadata": {},
   "source": [
    "#### По самым характерным словам видно, что в корпусе есть мусор, стоп слова, разные формы одного слова. Чтобы улучшить результат попробуйте почистить данные и добавить нормализацию."
   ]
  },
  {
   "cell_type": "code",
   "execution_count": 35,
   "metadata": {},
   "outputs": [],
   "source": [
    "# from nltk.stem.snowball import RussianStemmer\n",
    "\n",
    "\n",
    "def normalize(text):\n",
    "    \"\"\"\n",
    "    функция нормализации\n",
    "    \n",
    "    ::парметры::\n",
    "    @text - ненормализованный текст (string)\n",
    "    \n",
    "    ::returns::\n",
    "    нормализованный текст (string)\n",
    "    \"\"\"\n",
    "#     stops = stopwords.words('russian')\n",
    "#     stemmer = RussianStemmer(False)\n",
    "#     tokens = [word for word in word_tokenize(text)] # if word not in stops\n",
    "    lemmas = mystem.lemmatize(text) #' '.join(tokens)\n",
    "#     lemmas = [morph.parse(token)[0].normal_form for token in tokens]\n",
    "#     stems =  [stemmer.stem(token) for token in tokens]\n",
    "    \n",
    "    return ' '.join(lemmas) # text, stems\n",
    "    "
   ]
  },
  {
   "cell_type": "markdown",
   "metadata": {},
   "source": [
    "Чтобы применить нормализацию ко всему корпусу, воспользуйтесь функцией apply."
   ]
  },
  {
   "cell_type": "code",
   "execution_count": 36,
   "metadata": {},
   "outputs": [],
   "source": [
    "train_data['normalized'] = train_data['text'].apply(normalize)\n",
    "test_data['normalized'] = test_data['text'].apply(normalize)"
   ]
  },
  {
   "cell_type": "markdown",
   "metadata": {},
   "source": [
    "Выделим в отдельные признаки количество восклицательных, вопросительных знаков и количество слов в верхнем регистре (рассматриваются слова больше 4 букв, иначе будет также находиться МТС и другие аббревиатуры)."
   ]
  },
  {
   "cell_type": "code",
   "execution_count": 37,
   "metadata": {},
   "outputs": [],
   "source": [
    "train_data['exclamation'] = train_data['text'].str.findall('!').apply(len)\n",
    "test_data['exclamation'] = test_data['text'].str.findall('!').apply(len)"
   ]
  },
  {
   "cell_type": "code",
   "execution_count": 38,
   "metadata": {},
   "outputs": [],
   "source": [
    "train_data['interrogation'] = train_data['text'].str.findall('\\?').apply(len)\n",
    "test_data['interrogation'] = test_data['text'].str.findall('\\?').apply(len)"
   ]
  },
  {
   "cell_type": "code",
   "execution_count": 39,
   "metadata": {},
   "outputs": [],
   "source": [
    "train_data['caps'] = train_data['text'].str.findall('[А-Я]{4,}').apply(len)\n",
    "test_data['caps'] = test_data['text'].str.findall('[А-Я]{4,}').apply(len)"
   ]
  },
  {
   "cell_type": "code",
   "execution_count": 40,
   "metadata": {},
   "outputs": [
    {
     "data": {
      "text/html": [
       "<div>\n",
       "<style scoped>\n",
       "    .dataframe tbody tr th:only-of-type {\n",
       "        vertical-align: middle;\n",
       "    }\n",
       "\n",
       "    .dataframe tbody tr th {\n",
       "        vertical-align: top;\n",
       "    }\n",
       "\n",
       "    .dataframe thead th {\n",
       "        text-align: right;\n",
       "    }\n",
       "</style>\n",
       "<table border=\"1\" class=\"dataframe\">\n",
       "  <thead>\n",
       "    <tr style=\"text-align: right;\">\n",
       "      <th></th>\n",
       "      <th>label</th>\n",
       "      <th>text</th>\n",
       "      <th>normalized</th>\n",
       "      <th>exclamation</th>\n",
       "      <th>interrogation</th>\n",
       "      <th>caps</th>\n",
       "    </tr>\n",
       "  </thead>\n",
       "  <tbody>\n",
       "    <tr>\n",
       "      <th>0</th>\n",
       "      <td>0</td>\n",
       "      <td>@mkomov Максим, Вашем письмо мы получили. Наши сотрудники свяжутся с Вами завтра и направят запрос инженерам для проверки. #билайн</td>\n",
       "      <td>@ mkomov   максим ,  ваш   письмо   мы   получать .  наш   сотрудник   связываться   с   вы   завтра   и   направлять   запрос   инженер   для   проверка .   # билайн \\n</td>\n",
       "      <td>0</td>\n",
       "      <td>0</td>\n",
       "      <td>0</td>\n",
       "    </tr>\n",
       "    <tr>\n",
       "      <th>1</th>\n",
       "      <td>0</td>\n",
       "      <td>«Мегафон» стал владельцем 50% акций «Евросети»</td>\n",
       "      <td>« мегафон »  становиться   владелец   50 %  акция  « евросеть »\\n</td>\n",
       "      <td>0</td>\n",
       "      <td>0</td>\n",
       "      <td>0</td>\n",
       "    </tr>\n",
       "    <tr>\n",
       "      <th>2</th>\n",
       "      <td>-1</td>\n",
       "      <td>RT @fuckkiev: “@EvaKobb: МТС Россия прислала жителям Херсонщины сообщения, в которых обозвала украинцев фашистами? http://t.co/RbSesXlOUZ” …</td>\n",
       "      <td>RT   @ fuckkiev : “ @ EvaKobb :  мтс   россия   присылать   житель   херсонщина   сообщение ,  в   который   обзывать   украинец   фашист ?   http :// t . co / RbSesXlOUZ ”  … \\n</td>\n",
       "      <td>0</td>\n",
       "      <td>1</td>\n",
       "      <td>0</td>\n",
       "    </tr>\n",
       "    <tr>\n",
       "      <th>3</th>\n",
       "      <td>1</td>\n",
       "      <td>ВИДЕО: http://t.co/PSMLAhR4fI Реклама со смехом МТС - Супер 0</td>\n",
       "      <td>видео :  http :// t . co / PSMLAhR4fI   реклама   со   смех   мтс  -  супер   0 \\n</td>\n",
       "      <td>0</td>\n",
       "      <td>0</td>\n",
       "      <td>1</td>\n",
       "    </tr>\n",
       "    <tr>\n",
       "      <th>4</th>\n",
       "      <td>-1</td>\n",
       "      <td>@parfenov1960 потому что МТС достало, а пчел ненавижу с детства, как и их мёд!</td>\n",
       "      <td>@ parfenov1960   потому   что   мтс   доставать ,  а   пчела   ненавидеть   с   детство ,  как   и   они   мед ! \\n</td>\n",
       "      <td>1</td>\n",
       "      <td>0</td>\n",
       "      <td>0</td>\n",
       "    </tr>\n",
       "  </tbody>\n",
       "</table>\n",
       "</div>"
      ],
      "text/plain": [
       "   label  \\\n",
       "0      0   \n",
       "1      0   \n",
       "2     -1   \n",
       "3      1   \n",
       "4     -1   \n",
       "\n",
       "                                                                                                                                           text  \\\n",
       "0            @mkomov Максим, Вашем письмо мы получили. Наши сотрудники свяжутся с Вами завтра и направят запрос инженерам для проверки. #билайн   \n",
       "1                                                                                                «Мегафон» стал владельцем 50% акций «Евросети»   \n",
       "2  RT @fuckkiev: “@EvaKobb: МТС Россия прислала жителям Херсонщины сообщения, в которых обозвала украинцев фашистами? http://t.co/RbSesXlOUZ” …   \n",
       "3                                                                                 ВИДЕО: http://t.co/PSMLAhR4fI Реклама со смехом МТС - Супер 0   \n",
       "4                                                                @parfenov1960 потому что МТС достало, а пчел ненавижу с детства, как и их мёд!   \n",
       "\n",
       "                                                                                                                                                                           normalized  \\\n",
       "0           @ mkomov   максим ,  ваш   письмо   мы   получать .  наш   сотрудник   связываться   с   вы   завтра   и   направлять   запрос   инженер   для   проверка .   # билайн \\n   \n",
       "1                                                                                                                   « мегафон »  становиться   владелец   50 %  акция  « евросеть »\\n   \n",
       "2  RT   @ fuckkiev : “ @ EvaKobb :  мтс   россия   присылать   житель   херсонщина   сообщение ,  в   который   обзывать   украинец   фашист ?   http :// t . co / RbSesXlOUZ ”  … \\n   \n",
       "3                                                                                                  видео :  http :// t . co / PSMLAhR4fI   реклама   со   смех   мтс  -  супер   0 \\n   \n",
       "4                                                                 @ parfenov1960   потому   что   мтс   доставать ,  а   пчела   ненавидеть   с   детство ,  как   и   они   мед ! \\n   \n",
       "\n",
       "   exclamation  interrogation  caps  \n",
       "0            0              0     0  \n",
       "1            0              0     0  \n",
       "2            0              1     0  \n",
       "3            0              0     1  \n",
       "4            1              0     0  "
      ]
     },
     "execution_count": 40,
     "metadata": {},
     "output_type": "execute_result"
    }
   ],
   "source": [
    "train_data.head()"
   ]
  },
  {
   "cell_type": "markdown",
   "metadata": {},
   "source": [
    "Обучите новую модель на нормализованных данных."
   ]
  },
  {
   "cell_type": "code",
   "execution_count": 41,
   "metadata": {},
   "outputs": [],
   "source": [
    "tfidf = TfidfVectorizer() # ngram_range=(1,2)\n",
    "tfidf.fit(train_data['normalized'].values)\n",
    "\n",
    "X_train = tfidf.transform(train_data['normalized'].values)\n",
    "X_test = tfidf.transform(test_data['normalized'].values)"
   ]
  },
  {
   "cell_type": "code",
   "execution_count": 42,
   "metadata": {},
   "outputs": [],
   "source": [
    "# train_matrix = pd.SparseDataFrame(tfidf.transform(train_data['normalized'].values))\n",
    "# test_matrix = pd.SparseDataFrame(tfidf.transform(test_data['normalized'].values))\n",
    "# X_train = train_data.drop(['text', 'label'], axis=1).join(train_matrix)\n",
    "# X_test = test_data.drop(['text', 'label'], axis=1).join(test_matrix)"
   ]
  },
  {
   "cell_type": "code",
   "execution_count": 43,
   "metadata": {},
   "outputs": [],
   "source": [
    "# X_train.shape, X_test.shape"
   ]
  },
  {
   "cell_type": "code",
   "execution_count": 61,
   "metadata": {},
   "outputs": [],
   "source": [
    "clf = LogisticRegression(penalty='l1',  C=1)\n",
    "clf.fit(X_train, y_train)\n",
    "y_pred = clf.predict(X_test)"
   ]
  },
  {
   "cell_type": "code",
   "execution_count": 62,
   "metadata": {},
   "outputs": [
    {
     "name": "stdout",
     "output_type": "stream",
     "text": [
      "             precision    recall  f1-score   support\n",
      "\n",
      "         -1       0.69      0.67      0.68       902\n",
      "          0       0.66      0.76      0.70       972\n",
      "          1       0.46      0.18      0.26       180\n",
      "\n",
      "avg / total       0.66      0.67      0.66      2054\n",
      "\n",
      "Макросредняя F1 мера -  0.5477109468756411\n",
      "Микросредняя F1 мера -  0.6674780915287244\n"
     ]
    }
   ],
   "source": [
    "print(classification_report(y_test, y_pred))\n",
    "print('Макросредняя F1 мера - ',f1_score(y_test, y_pred, average='macro'))\n",
    "print('Микросредняя F1 мера - ',f1_score(y_test, y_pred, average='micro'))"
   ]
  },
  {
   "cell_type": "code",
   "execution_count": 65,
   "metadata": {},
   "outputs": [
    {
     "data": {
      "image/png": "[encoded data removed]",
      "text/plain": [
       "<matplotlib.figure.Figure at 0x7fc523e8ce10>"
      ]
     },
     "metadata": {},
     "output_type": "display_data"
    }
   ],
   "source": [
    "labels = clf.classes_\n",
    "fig, ax = plt.subplots(figsize=(10,5))\n",
    "sns.heatmap(data=confusion_matrix(y_test, y_pred), annot=True, \n",
    "            fmt=\"d\", xticklabels=labels, yticklabels=labels, ax=ax)\n",
    "plt.title(\"Confusion matrix\")\n",
    "plt.show()"
   ]
  },
  {
   "cell_type": "code",
   "execution_count": 66,
   "metadata": {},
   "outputs": [
    {
     "name": "stdout",
     "output_type": "stream",
     "text": [
      "Значимые слова для класса -  -1\n",
      "['оштрафовать', 'сбой', 'tele2', 'подорожать', 'гавно', 'повышать', 'сука', 'не', 'восстановление', 'заблокировать']\n",
      "\n",
      "Значимые слова для класса -  0\n",
      "['доллар', 'гавно', 'иа', 'подорожать', 'сбой', 'уточнять', 'восстановление', 'оштрафовать', 'ловить', 'pomogite']\n",
      "\n",
      "Значимые слова для класса -  1\n",
      "['спасибо', 'защита', 'любить', 'узбекистан', 'подарок', 'расход', 'доллар', 'бесплатный', 'пожалуйста', 'хороший']\n",
      "\n"
     ]
    }
   ],
   "source": [
    "print_important(tfidf, clf, 10)"
   ]
  },
  {
   "cell_type": "code",
   "execution_count": 46,
   "metadata": {},
   "outputs": [
    {
     "data": {
      "text/plain": [
       "(10262, 14457)"
      ]
     },
     "execution_count": 46,
     "metadata": {},
     "output_type": "execute_result"
    }
   ],
   "source": [
    "X = vstack([X_train, X_test])\n",
    "X.shape"
   ]
  },
  {
   "cell_type": "code",
   "execution_count": 49,
   "metadata": {},
   "outputs": [
    {
     "data": {
      "text/plain": [
       "(10262,)"
      ]
     },
     "execution_count": 49,
     "metadata": {},
     "output_type": "execute_result"
    }
   ],
   "source": [
    "y = np.hstack([y_train, y_test])\n",
    "y.shape"
   ]
  },
  {
   "cell_type": "code",
   "execution_count": 54,
   "metadata": {},
   "outputs": [],
   "source": [
    "param_grid = {'C': [1.e-4, 1.e-3, 1.e-2,\n",
    "                   1.e-1, 1, 2, 10, 50,\n",
    "                   100, 1000],\n",
    "             'penalty': ['l1', 'l2']}\n",
    "grid_searcher_micro = GridSearchCV(LogisticRegression(), param_grid, cv=5, n_jobs=-1, scoring='f1_micro').fit(X, y)"
   ]
  },
  {
   "cell_type": "code",
   "execution_count": 55,
   "metadata": {},
   "outputs": [
    {
     "data": {
      "text/html": [
       "<div>\n",
       "<style scoped>\n",
       "    .dataframe tbody tr th:only-of-type {\n",
       "        vertical-align: middle;\n",
       "    }\n",
       "\n",
       "    .dataframe tbody tr th {\n",
       "        vertical-align: top;\n",
       "    }\n",
       "\n",
       "    .dataframe thead th {\n",
       "        text-align: right;\n",
       "    }\n",
       "</style>\n",
       "<table border=\"1\" class=\"dataframe\">\n",
       "  <thead>\n",
       "    <tr style=\"text-align: right;\">\n",
       "      <th></th>\n",
       "      <th>mean_fit_time</th>\n",
       "      <th>mean_score_time</th>\n",
       "      <th>mean_test_score</th>\n",
       "      <th>mean_train_score</th>\n",
       "      <th>param_C</th>\n",
       "      <th>param_penalty</th>\n",
       "      <th>params</th>\n",
       "      <th>rank_test_score</th>\n",
       "      <th>split0_test_score</th>\n",
       "      <th>split0_train_score</th>\n",
       "      <th>...</th>\n",
       "      <th>split2_test_score</th>\n",
       "      <th>split2_train_score</th>\n",
       "      <th>split3_test_score</th>\n",
       "      <th>split3_train_score</th>\n",
       "      <th>split4_test_score</th>\n",
       "      <th>split4_train_score</th>\n",
       "      <th>std_fit_time</th>\n",
       "      <th>std_score_time</th>\n",
       "      <th>std_test_score</th>\n",
       "      <th>std_train_score</th>\n",
       "    </tr>\n",
       "  </thead>\n",
       "  <tbody>\n",
       "    <tr>\n",
       "      <th>13</th>\n",
       "      <td>0.489689</td>\n",
       "      <td>0.003699</td>\n",
       "      <td>0.725784</td>\n",
       "      <td>0.972739</td>\n",
       "      <td>10</td>\n",
       "      <td>l2</td>\n",
       "      <td>{'penalty': 'l2', 'C': 10}</td>\n",
       "      <td>1</td>\n",
       "      <td>0.737457</td>\n",
       "      <td>0.970398</td>\n",
       "      <td>...</td>\n",
       "      <td>0.746101</td>\n",
       "      <td>0.969306</td>\n",
       "      <td>0.714425</td>\n",
       "      <td>0.974543</td>\n",
       "      <td>0.685185</td>\n",
       "      <td>0.980877</td>\n",
       "      <td>0.042656</td>\n",
       "      <td>0.001134</td>\n",
       "      <td>0.023342</td>\n",
       "      <td>0.004563</td>\n",
       "    </tr>\n",
       "    <tr>\n",
       "      <th>11</th>\n",
       "      <td>0.321358</td>\n",
       "      <td>0.003280</td>\n",
       "      <td>0.716624</td>\n",
       "      <td>0.886864</td>\n",
       "      <td>2</td>\n",
       "      <td>l2</td>\n",
       "      <td>{'penalty': 'l2', 'C': 2}</td>\n",
       "      <td>2</td>\n",
       "      <td>0.727228</td>\n",
       "      <td>0.886953</td>\n",
       "      <td>...</td>\n",
       "      <td>0.734405</td>\n",
       "      <td>0.879903</td>\n",
       "      <td>0.695419</td>\n",
       "      <td>0.888307</td>\n",
       "      <td>0.683236</td>\n",
       "      <td>0.897442</td>\n",
       "      <td>0.046459</td>\n",
       "      <td>0.001362</td>\n",
       "      <td>0.023147</td>\n",
       "      <td>0.006148</td>\n",
       "    </tr>\n",
       "    <tr>\n",
       "      <th>10</th>\n",
       "      <td>0.632806</td>\n",
       "      <td>0.002894</td>\n",
       "      <td>0.715163</td>\n",
       "      <td>0.850516</td>\n",
       "      <td>2</td>\n",
       "      <td>l1</td>\n",
       "      <td>{'penalty': 'l1', 'C': 2}</td>\n",
       "      <td>3</td>\n",
       "      <td>0.728203</td>\n",
       "      <td>0.846997</td>\n",
       "      <td>...</td>\n",
       "      <td>0.741228</td>\n",
       "      <td>0.843484</td>\n",
       "      <td>0.704191</td>\n",
       "      <td>0.855664</td>\n",
       "      <td>0.675439</td>\n",
       "      <td>0.856395</td>\n",
       "      <td>0.082836</td>\n",
       "      <td>0.000233</td>\n",
       "      <td>0.023158</td>\n",
       "      <td>0.004962</td>\n",
       "    </tr>\n",
       "    <tr>\n",
       "      <th>15</th>\n",
       "      <td>0.642460</td>\n",
       "      <td>0.002853</td>\n",
       "      <td>0.714091</td>\n",
       "      <td>0.994445</td>\n",
       "      <td>50</td>\n",
       "      <td>l2</td>\n",
       "      <td>{'penalty': 'l2', 'C': 50}</td>\n",
       "      <td>4</td>\n",
       "      <td>0.724306</td>\n",
       "      <td>0.994153</td>\n",
       "      <td>...</td>\n",
       "      <td>0.739766</td>\n",
       "      <td>0.993301</td>\n",
       "      <td>0.704191</td>\n",
       "      <td>0.995615</td>\n",
       "      <td>0.668616</td>\n",
       "      <td>0.996711</td>\n",
       "      <td>0.065251</td>\n",
       "      <td>0.000412</td>\n",
       "      <td>0.025722</td>\n",
       "      <td>0.001542</td>\n",
       "    </tr>\n",
       "    <tr>\n",
       "      <th>12</th>\n",
       "      <td>20.463784</td>\n",
       "      <td>0.004810</td>\n",
       "      <td>0.713896</td>\n",
       "      <td>0.992180</td>\n",
       "      <td>10</td>\n",
       "      <td>l1</td>\n",
       "      <td>{'penalty': 'l1', 'C': 10}</td>\n",
       "      <td>5</td>\n",
       "      <td>0.717974</td>\n",
       "      <td>0.991595</td>\n",
       "      <td>...</td>\n",
       "      <td>0.748051</td>\n",
       "      <td>0.990499</td>\n",
       "      <td>0.706628</td>\n",
       "      <td>0.993666</td>\n",
       "      <td>0.667641</td>\n",
       "      <td>0.995371</td>\n",
       "      <td>22.276979</td>\n",
       "      <td>0.003458</td>\n",
       "      <td>0.026864</td>\n",
       "      <td>0.002068</td>\n",
       "    </tr>\n",
       "  </tbody>\n",
       "</table>\n",
       "<p>5 rows × 22 columns</p>\n",
       "</div>"
      ],
      "text/plain": [
       "    mean_fit_time  mean_score_time  mean_test_score  mean_train_score param_C  \\\n",
       "13       0.489689         0.003699         0.725784          0.972739      10   \n",
       "11       0.321358         0.003280         0.716624          0.886864       2   \n",
       "10       0.632806         0.002894         0.715163          0.850516       2   \n",
       "15       0.642460         0.002853         0.714091          0.994445      50   \n",
       "12      20.463784         0.004810         0.713896          0.992180      10   \n",
       "\n",
       "   param_penalty                      params  rank_test_score  \\\n",
       "13            l2  {'penalty': 'l2', 'C': 10}                1   \n",
       "11            l2   {'penalty': 'l2', 'C': 2}                2   \n",
       "10            l1   {'penalty': 'l1', 'C': 2}                3   \n",
       "15            l2  {'penalty': 'l2', 'C': 50}                4   \n",
       "12            l1  {'penalty': 'l1', 'C': 10}                5   \n",
       "\n",
       "    split0_test_score  split0_train_score       ...         split2_test_score  \\\n",
       "13           0.737457            0.970398       ...                  0.746101   \n",
       "11           0.727228            0.886953       ...                  0.734405   \n",
       "10           0.728203            0.846997       ...                  0.741228   \n",
       "15           0.724306            0.994153       ...                  0.739766   \n",
       "12           0.717974            0.991595       ...                  0.748051   \n",
       "\n",
       "    split2_train_score  split3_test_score  split3_train_score  \\\n",
       "13            0.969306           0.714425            0.974543   \n",
       "11            0.879903           0.695419            0.888307   \n",
       "10            0.843484           0.704191            0.855664   \n",
       "15            0.993301           0.704191            0.995615   \n",
       "12            0.990499           0.706628            0.993666   \n",
       "\n",
       "    split4_test_score  split4_train_score  std_fit_time  std_score_time  \\\n",
       "13           0.685185            0.980877      0.042656        0.001134   \n",
       "11           0.683236            0.897442      0.046459        0.001362   \n",
       "10           0.675439            0.856395      0.082836        0.000233   \n",
       "15           0.668616            0.996711      0.065251        0.000412   \n",
       "12           0.667641            0.995371     22.276979        0.003458   \n",
       "\n",
       "    std_test_score  std_train_score  \n",
       "13        0.023342         0.004563  \n",
       "11        0.023147         0.006148  \n",
       "10        0.023158         0.004962  \n",
       "15        0.025722         0.001542  \n",
       "12        0.026864         0.002068  \n",
       "\n",
       "[5 rows x 22 columns]"
      ]
     },
     "execution_count": 55,
     "metadata": {},
     "output_type": "execute_result"
    }
   ],
   "source": [
    "pd.DataFrame(grid_searcher_micro.cv_results_).sort_values(by='rank_test_score').head()"
   ]
  },
  {
   "cell_type": "code",
   "execution_count": 56,
   "metadata": {},
   "outputs": [],
   "source": [
    "grid_searcher_macro = GridSearchCV(LogisticRegression(), param_grid, cv=5, n_jobs=-1, scoring='f1_macro').fit(X, y)"
   ]
  },
  {
   "cell_type": "code",
   "execution_count": 57,
   "metadata": {},
   "outputs": [
    {
     "data": {
      "text/html": [
       "<div>\n",
       "<style scoped>\n",
       "    .dataframe tbody tr th:only-of-type {\n",
       "        vertical-align: middle;\n",
       "    }\n",
       "\n",
       "    .dataframe tbody tr th {\n",
       "        vertical-align: top;\n",
       "    }\n",
       "\n",
       "    .dataframe thead th {\n",
       "        text-align: right;\n",
       "    }\n",
       "</style>\n",
       "<table border=\"1\" class=\"dataframe\">\n",
       "  <thead>\n",
       "    <tr style=\"text-align: right;\">\n",
       "      <th></th>\n",
       "      <th>mean_fit_time</th>\n",
       "      <th>mean_score_time</th>\n",
       "      <th>mean_test_score</th>\n",
       "      <th>mean_train_score</th>\n",
       "      <th>param_C</th>\n",
       "      <th>param_penalty</th>\n",
       "      <th>params</th>\n",
       "      <th>rank_test_score</th>\n",
       "      <th>split0_test_score</th>\n",
       "      <th>split0_train_score</th>\n",
       "      <th>...</th>\n",
       "      <th>split2_test_score</th>\n",
       "      <th>split2_train_score</th>\n",
       "      <th>split3_test_score</th>\n",
       "      <th>split3_train_score</th>\n",
       "      <th>split4_test_score</th>\n",
       "      <th>split4_train_score</th>\n",
       "      <th>std_fit_time</th>\n",
       "      <th>std_score_time</th>\n",
       "      <th>std_test_score</th>\n",
       "      <th>std_train_score</th>\n",
       "    </tr>\n",
       "  </thead>\n",
       "  <tbody>\n",
       "    <tr>\n",
       "      <th>13</th>\n",
       "      <td>0.988244</td>\n",
       "      <td>0.004834</td>\n",
       "      <td>0.645807</td>\n",
       "      <td>0.968358</td>\n",
       "      <td>10</td>\n",
       "      <td>l2</td>\n",
       "      <td>{'penalty': 'l2', 'C': 10}</td>\n",
       "      <td>1</td>\n",
       "      <td>0.665327</td>\n",
       "      <td>0.966057</td>\n",
       "      <td>...</td>\n",
       "      <td>0.655893</td>\n",
       "      <td>0.965304</td>\n",
       "      <td>0.616126</td>\n",
       "      <td>0.970177</td>\n",
       "      <td>0.599545</td>\n",
       "      <td>0.976729</td>\n",
       "      <td>0.120911</td>\n",
       "      <td>0.001385</td>\n",
       "      <td>0.033611</td>\n",
       "      <td>0.004719</td>\n",
       "    </tr>\n",
       "    <tr>\n",
       "      <th>15</th>\n",
       "      <td>1.328820</td>\n",
       "      <td>0.010380</td>\n",
       "      <td>0.641139</td>\n",
       "      <td>0.993791</td>\n",
       "      <td>50</td>\n",
       "      <td>l2</td>\n",
       "      <td>{'penalty': 'l2', 'C': 50}</td>\n",
       "      <td>2</td>\n",
       "      <td>0.654126</td>\n",
       "      <td>0.993815</td>\n",
       "      <td>...</td>\n",
       "      <td>0.659632</td>\n",
       "      <td>0.992689</td>\n",
       "      <td>0.622151</td>\n",
       "      <td>0.995366</td>\n",
       "      <td>0.586092</td>\n",
       "      <td>0.995801</td>\n",
       "      <td>0.095825</td>\n",
       "      <td>0.006319</td>\n",
       "      <td>0.033793</td>\n",
       "      <td>0.001674</td>\n",
       "    </tr>\n",
       "    <tr>\n",
       "      <th>17</th>\n",
       "      <td>1.585664</td>\n",
       "      <td>0.004777</td>\n",
       "      <td>0.636288</td>\n",
       "      <td>0.996728</td>\n",
       "      <td>100</td>\n",
       "      <td>l2</td>\n",
       "      <td>{'penalty': 'l2', 'C': 100}</td>\n",
       "      <td>3</td>\n",
       "      <td>0.650759</td>\n",
       "      <td>0.996688</td>\n",
       "      <td>...</td>\n",
       "      <td>0.658674</td>\n",
       "      <td>0.995937</td>\n",
       "      <td>0.619793</td>\n",
       "      <td>0.997183</td>\n",
       "      <td>0.580453</td>\n",
       "      <td>0.998360</td>\n",
       "      <td>0.105051</td>\n",
       "      <td>0.000795</td>\n",
       "      <td>0.032730</td>\n",
       "      <td>0.001007</td>\n",
       "    </tr>\n",
       "    <tr>\n",
       "      <th>12</th>\n",
       "      <td>3.974544</td>\n",
       "      <td>0.004733</td>\n",
       "      <td>0.635517</td>\n",
       "      <td>0.991165</td>\n",
       "      <td>10</td>\n",
       "      <td>l1</td>\n",
       "      <td>{'penalty': 'l1', 'C': 10}</td>\n",
       "      <td>4</td>\n",
       "      <td>0.642975</td>\n",
       "      <td>0.990887</td>\n",
       "      <td>...</td>\n",
       "      <td>0.653014</td>\n",
       "      <td>0.989237</td>\n",
       "      <td>0.625574</td>\n",
       "      <td>0.993026</td>\n",
       "      <td>0.581814</td>\n",
       "      <td>0.994240</td>\n",
       "      <td>1.108549</td>\n",
       "      <td>0.000889</td>\n",
       "      <td>0.031112</td>\n",
       "      <td>0.002198</td>\n",
       "    </tr>\n",
       "    <tr>\n",
       "      <th>10</th>\n",
       "      <td>1.017328</td>\n",
       "      <td>0.007401</td>\n",
       "      <td>0.630417</td>\n",
       "      <td>0.809768</td>\n",
       "      <td>2</td>\n",
       "      <td>l1</td>\n",
       "      <td>{'penalty': 'l1', 'C': 2}</td>\n",
       "      <td>5</td>\n",
       "      <td>0.643914</td>\n",
       "      <td>0.807398</td>\n",
       "      <td>...</td>\n",
       "      <td>0.652615</td>\n",
       "      <td>0.802307</td>\n",
       "      <td>0.613740</td>\n",
       "      <td>0.817843</td>\n",
       "      <td>0.583324</td>\n",
       "      <td>0.815242</td>\n",
       "      <td>0.063081</td>\n",
       "      <td>0.003700</td>\n",
       "      <td>0.028134</td>\n",
       "      <td>0.005836</td>\n",
       "    </tr>\n",
       "  </tbody>\n",
       "</table>\n",
       "<p>5 rows × 22 columns</p>\n",
       "</div>"
      ],
      "text/plain": [
       "    mean_fit_time  mean_score_time  mean_test_score  mean_train_score param_C  \\\n",
       "13       0.988244         0.004834         0.645807          0.968358      10   \n",
       "15       1.328820         0.010380         0.641139          0.993791      50   \n",
       "17       1.585664         0.004777         0.636288          0.996728     100   \n",
       "12       3.974544         0.004733         0.635517          0.991165      10   \n",
       "10       1.017328         0.007401         0.630417          0.809768       2   \n",
       "\n",
       "   param_penalty                       params  rank_test_score  \\\n",
       "13            l2   {'penalty': 'l2', 'C': 10}                1   \n",
       "15            l2   {'penalty': 'l2', 'C': 50}                2   \n",
       "17            l2  {'penalty': 'l2', 'C': 100}                3   \n",
       "12            l1   {'penalty': 'l1', 'C': 10}                4   \n",
       "10            l1    {'penalty': 'l1', 'C': 2}                5   \n",
       "\n",
       "    split0_test_score  split0_train_score       ...         split2_test_score  \\\n",
       "13           0.665327            0.966057       ...                  0.655893   \n",
       "15           0.654126            0.993815       ...                  0.659632   \n",
       "17           0.650759            0.996688       ...                  0.658674   \n",
       "12           0.642975            0.990887       ...                  0.653014   \n",
       "10           0.643914            0.807398       ...                  0.652615   \n",
       "\n",
       "    split2_train_score  split3_test_score  split3_train_score  \\\n",
       "13            0.965304           0.616126            0.970177   \n",
       "15            0.992689           0.622151            0.995366   \n",
       "17            0.995937           0.619793            0.997183   \n",
       "12            0.989237           0.625574            0.993026   \n",
       "10            0.802307           0.613740            0.817843   \n",
       "\n",
       "    split4_test_score  split4_train_score  std_fit_time  std_score_time  \\\n",
       "13           0.599545            0.976729      0.120911        0.001385   \n",
       "15           0.586092            0.995801      0.095825        0.006319   \n",
       "17           0.580453            0.998360      0.105051        0.000795   \n",
       "12           0.581814            0.994240      1.108549        0.000889   \n",
       "10           0.583324            0.815242      0.063081        0.003700   \n",
       "\n",
       "    std_test_score  std_train_score  \n",
       "13        0.033611         0.004719  \n",
       "15        0.033793         0.001674  \n",
       "17        0.032730         0.001007  \n",
       "12        0.031112         0.002198  \n",
       "10        0.028134         0.005836  \n",
       "\n",
       "[5 rows x 22 columns]"
      ]
     },
     "execution_count": 57,
     "metadata": {},
     "output_type": "execute_result"
    }
   ],
   "source": [
    "pd.DataFrame(grid_searcher_macro.cv_results_).sort_values(by='rank_test_score').head()"
   ]
  },
  {
   "cell_type": "code",
   "execution_count": 58,
   "metadata": {},
   "outputs": [],
   "source": [
    "clf_new = LogisticRegression(penalty='l2',  C=10)\n",
    "clf_new.fit(X_train, y_train)\n",
    "y_pred_new = clf_new.predict(X_test)"
   ]
  },
  {
   "cell_type": "code",
   "execution_count": 59,
   "metadata": {
    "scrolled": false
   },
   "outputs": [
    {
     "data": {
      "image/png": "[encoded data removed]",
      "text/plain": [
       "<matplotlib.figure.Figure at 0x7fc524abb240>"
      ]
     },
     "metadata": {},
     "output_type": "display_data"
    }
   ],
   "source": [
    "labels = clf_new.classes_\n",
    "fig, ax = plt.subplots(figsize=(10,5))\n",
    "sns.heatmap(data=confusion_matrix(y_test, y_pred_new), annot=True, \n",
    "            fmt=\"d\", xticklabels=labels, yticklabels=labels, ax=ax)\n",
    "plt.title(\"Confusion matrix\")\n",
    "plt.show()"
   ]
  },
  {
   "cell_type": "code",
   "execution_count": 60,
   "metadata": {},
   "outputs": [
    {
     "name": "stdout",
     "output_type": "stream",
     "text": [
      "Значимые слова для класса -  -1\n",
      "['гавно', 'оштрафовать', 'не', 'tele2', 'сбой', 'сука', 'повышать', 'плохо', 'подорожать', 'заблокировать']\n",
      "\n",
      "Значимые слова для класса -  0\n",
      "['гавно', 'доллар', 'любить', 'оштрафовать', 'восстановление', 'иа', 'ловить', 'сбой', 'даже', 'заебывать']\n",
      "\n",
      "Значимые слова для класса -  1\n",
      "['спасибо', 'любить', 'защита', 'узбекистан', 'радовать', 'бесплатный', 'подарок', 'хороший', 'благодарить', 'зарабатывать']\n",
      "\n"
     ]
    }
   ],
   "source": [
    "print_important(tfidf, clf_new, 10)"
   ]
  }
 ],
 "metadata": {
  "kernelspec": {
   "display_name": "Python 3",
   "language": "python",
   "name": "python3"
  },
  "language_info": {
   "codemirror_mode": {
    "name": "ipython",
    "version": 3
   },
   "file_extension": ".py",
   "mimetype": "text/x-python",
   "name": "python",
   "nbconvert_exporter": "python",
   "pygments_lexer": "ipython3",
   "version": "3.5.2"
  }
 },
 "nbformat": 4,
 "nbformat_minor": 2
}
